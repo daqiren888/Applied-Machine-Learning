{
 "cells": [
  {
   "cell_type": "markdown",
   "metadata": {},
   "source": [
    "# Introduction "
   ]
  },
  {
   "cell_type": "markdown",
   "metadata": {},
   "source": [
    "This dataset(https://archive.ics.uci.edu/ml/datasets/Incident+management+process+enriched+event+log) is from UCI ML repository  event log was extracted from data gathered from the audit system of an instance of the ServiceNow platform used by an IT company and enriched with data loaded from a relational database.In order to get a better understanding of the data we will be looking at throughout this lesson, let's take a look at defnition of each column of the dataset:-\n",
    "\n",
    "1. number: incident identifier (24,918 different values);\n",
    "2. incident state: eight levels controlling the incident management process transitions from opening until closing the case;\n",
    "3. active: boolean attribute that shows whether the record is active or closed/canceled;\n",
    "4. reassignment_count: number of times the incident has the group or the support analysts changed;\n",
    "5. reopen_count: number of times the incident resolution was rejected by the caller;\n",
    "6. sys_mod_count: number of incident updates until that moment;\n",
    "7. made_sla: boolean attribute that shows whether the incident exceeded the target SLA;\n",
    "8. caller_id: identifier of the user affected;\n",
    "9. opened_by: identifier of the user who reported the incident;\n",
    "10. opened_at: incident user opening date and time;\n",
    "11. sys_created_by: identifier of the user who registered the incident;\n",
    "12. sys_created_at: incident system creation date and time;\n",
    "13. sys_updated_by: identifier of the user who updated the incident and generated the current log record;\n",
    "14. sys_updated_at: incident system update date and time;\n",
    "15. contact_type: categorical attribute that shows by what means the incident was reported;\n",
    "16. location: identifier of the location of the place affected;\n",
    "17. category: first-level description of the affected service;\n",
    "18. subcategory: second-level description of the affected service (related to the first level description, i.e., to category);\n",
    "19. u_symptom: description of the user perception about service availability;\n",
    "20. cmdb_ci: (confirmation item) identifier used to report the affected item (not mandatory);\n",
    "21. impact: description of the impact caused by the incident (values: 1â€“High; 2â€“Medium; 3â€“Low);\n",
    "22. urgency: description of the urgency informed by the user for the incident resolution (values: 1â€“High; 2â€“Medium; 3â€“Low);\n",
    "23. priority: calculated by the system based on 'impact' and 'urgency';\n",
    "24. assignment_group: identifier of the support group in charge of the incident;\n",
    "25. assigned_to: identifier of the user in charge of the incident;\n",
    "26. knowledge: boolean attribute that shows whether a knowledge base document was used to resolve the incident;\n",
    "27. u_priority_confirmation: boolean attribute that shows whether the priority field has been double-checked;\n",
    "28. notify: categorical attribute that shows whether notifications were generated for the incident;\n",
    "29. problem_id: identifier of the problem associated with the incident;\n",
    "30. rfc: (request for change) identifier of the change request associated with the incident;\n",
    "31. vendor: identifier of the vendor in charge of the incident;\n",
    "32. caused_by: identifier of the RFC responsible by the incident;\n",
    "33. close_code: identifier of the resolution of the incident;\n",
    "34. resolved_by: identifier of the user who resolved the incident;\n",
    "35. resolved_at: incident user resolution date and time (dependent variable);\n",
    "36. closed_at: incident user close date and time (dependent variable).\n",
    "\n",
    "First, let's read in the data and necessary libraries."
   ]
  },
  {
   "cell_type": "code",
   "execution_count": 2,
   "metadata": {},
   "outputs": [
    {
     "data": {
      "text/html": [
       "<div>\n",
       "<style scoped>\n",
       "    .dataframe tbody tr th:only-of-type {\n",
       "        vertical-align: middle;\n",
       "    }\n",
       "\n",
       "    .dataframe tbody tr th {\n",
       "        vertical-align: top;\n",
       "    }\n",
       "\n",
       "    .dataframe thead th {\n",
       "        text-align: right;\n",
       "    }\n",
       "</style>\n",
       "<table border=\"1\" class=\"dataframe\">\n",
       "  <thead>\n",
       "    <tr style=\"text-align: right;\">\n",
       "      <th></th>\n",
       "      <th>number</th>\n",
       "      <th>incident_state</th>\n",
       "      <th>active</th>\n",
       "      <th>reassignment_count</th>\n",
       "      <th>reopen_count</th>\n",
       "      <th>sys_mod_count</th>\n",
       "      <th>made_sla</th>\n",
       "      <th>caller_id</th>\n",
       "      <th>opened_by</th>\n",
       "      <th>opened_at</th>\n",
       "      <th>...</th>\n",
       "      <th>u_priority_confirmation</th>\n",
       "      <th>notify</th>\n",
       "      <th>problem_id</th>\n",
       "      <th>rfc</th>\n",
       "      <th>vendor</th>\n",
       "      <th>caused_by</th>\n",
       "      <th>closed_code</th>\n",
       "      <th>resolved_by</th>\n",
       "      <th>resolved_at</th>\n",
       "      <th>closed_at</th>\n",
       "    </tr>\n",
       "  </thead>\n",
       "  <tbody>\n",
       "    <tr>\n",
       "      <th>0</th>\n",
       "      <td>INC0000045</td>\n",
       "      <td>New</td>\n",
       "      <td>True</td>\n",
       "      <td>0</td>\n",
       "      <td>0</td>\n",
       "      <td>0</td>\n",
       "      <td>True</td>\n",
       "      <td>Caller 2403</td>\n",
       "      <td>Opened by  8</td>\n",
       "      <td>29/2/2016 01:16</td>\n",
       "      <td>...</td>\n",
       "      <td>False</td>\n",
       "      <td>Do Not Notify</td>\n",
       "      <td>?</td>\n",
       "      <td>?</td>\n",
       "      <td>?</td>\n",
       "      <td>?</td>\n",
       "      <td>code 5</td>\n",
       "      <td>Resolved by 149</td>\n",
       "      <td>29/2/2016 11:29</td>\n",
       "      <td>5/3/2016 12:00</td>\n",
       "    </tr>\n",
       "    <tr>\n",
       "      <th>1</th>\n",
       "      <td>INC0000045</td>\n",
       "      <td>Resolved</td>\n",
       "      <td>True</td>\n",
       "      <td>0</td>\n",
       "      <td>0</td>\n",
       "      <td>2</td>\n",
       "      <td>True</td>\n",
       "      <td>Caller 2403</td>\n",
       "      <td>Opened by  8</td>\n",
       "      <td>29/2/2016 01:16</td>\n",
       "      <td>...</td>\n",
       "      <td>False</td>\n",
       "      <td>Do Not Notify</td>\n",
       "      <td>?</td>\n",
       "      <td>?</td>\n",
       "      <td>?</td>\n",
       "      <td>?</td>\n",
       "      <td>code 5</td>\n",
       "      <td>Resolved by 149</td>\n",
       "      <td>29/2/2016 11:29</td>\n",
       "      <td>5/3/2016 12:00</td>\n",
       "    </tr>\n",
       "    <tr>\n",
       "      <th>2</th>\n",
       "      <td>INC0000045</td>\n",
       "      <td>Resolved</td>\n",
       "      <td>True</td>\n",
       "      <td>0</td>\n",
       "      <td>0</td>\n",
       "      <td>3</td>\n",
       "      <td>True</td>\n",
       "      <td>Caller 2403</td>\n",
       "      <td>Opened by  8</td>\n",
       "      <td>29/2/2016 01:16</td>\n",
       "      <td>...</td>\n",
       "      <td>False</td>\n",
       "      <td>Do Not Notify</td>\n",
       "      <td>?</td>\n",
       "      <td>?</td>\n",
       "      <td>?</td>\n",
       "      <td>?</td>\n",
       "      <td>code 5</td>\n",
       "      <td>Resolved by 149</td>\n",
       "      <td>29/2/2016 11:29</td>\n",
       "      <td>5/3/2016 12:00</td>\n",
       "    </tr>\n",
       "    <tr>\n",
       "      <th>3</th>\n",
       "      <td>INC0000045</td>\n",
       "      <td>Closed</td>\n",
       "      <td>False</td>\n",
       "      <td>0</td>\n",
       "      <td>0</td>\n",
       "      <td>4</td>\n",
       "      <td>True</td>\n",
       "      <td>Caller 2403</td>\n",
       "      <td>Opened by  8</td>\n",
       "      <td>29/2/2016 01:16</td>\n",
       "      <td>...</td>\n",
       "      <td>False</td>\n",
       "      <td>Do Not Notify</td>\n",
       "      <td>?</td>\n",
       "      <td>?</td>\n",
       "      <td>?</td>\n",
       "      <td>?</td>\n",
       "      <td>code 5</td>\n",
       "      <td>Resolved by 149</td>\n",
       "      <td>29/2/2016 11:29</td>\n",
       "      <td>5/3/2016 12:00</td>\n",
       "    </tr>\n",
       "    <tr>\n",
       "      <th>4</th>\n",
       "      <td>INC0000047</td>\n",
       "      <td>New</td>\n",
       "      <td>True</td>\n",
       "      <td>0</td>\n",
       "      <td>0</td>\n",
       "      <td>0</td>\n",
       "      <td>True</td>\n",
       "      <td>Caller 2403</td>\n",
       "      <td>Opened by  397</td>\n",
       "      <td>29/2/2016 04:40</td>\n",
       "      <td>...</td>\n",
       "      <td>False</td>\n",
       "      <td>Do Not Notify</td>\n",
       "      <td>?</td>\n",
       "      <td>?</td>\n",
       "      <td>?</td>\n",
       "      <td>?</td>\n",
       "      <td>code 5</td>\n",
       "      <td>Resolved by 81</td>\n",
       "      <td>1/3/2016 09:52</td>\n",
       "      <td>6/3/2016 10:00</td>\n",
       "    </tr>\n",
       "  </tbody>\n",
       "</table>\n",
       "<p>5 rows × 36 columns</p>\n",
       "</div>"
      ],
      "text/plain": [
       "       number incident_state  active  reassignment_count  reopen_count  \\\n",
       "0  INC0000045            New    True                   0             0   \n",
       "1  INC0000045       Resolved    True                   0             0   \n",
       "2  INC0000045       Resolved    True                   0             0   \n",
       "3  INC0000045         Closed   False                   0             0   \n",
       "4  INC0000047            New    True                   0             0   \n",
       "\n",
       "   sys_mod_count  made_sla    caller_id       opened_by        opened_at  ...  \\\n",
       "0              0      True  Caller 2403    Opened by  8  29/2/2016 01:16  ...   \n",
       "1              2      True  Caller 2403    Opened by  8  29/2/2016 01:16  ...   \n",
       "2              3      True  Caller 2403    Opened by  8  29/2/2016 01:16  ...   \n",
       "3              4      True  Caller 2403    Opened by  8  29/2/2016 01:16  ...   \n",
       "4              0      True  Caller 2403  Opened by  397  29/2/2016 04:40  ...   \n",
       "\n",
       "  u_priority_confirmation         notify problem_id rfc vendor caused_by  \\\n",
       "0                   False  Do Not Notify          ?   ?      ?         ?   \n",
       "1                   False  Do Not Notify          ?   ?      ?         ?   \n",
       "2                   False  Do Not Notify          ?   ?      ?         ?   \n",
       "3                   False  Do Not Notify          ?   ?      ?         ?   \n",
       "4                   False  Do Not Notify          ?   ?      ?         ?   \n",
       "\n",
       "  closed_code      resolved_by      resolved_at       closed_at  \n",
       "0      code 5  Resolved by 149  29/2/2016 11:29  5/3/2016 12:00  \n",
       "1      code 5  Resolved by 149  29/2/2016 11:29  5/3/2016 12:00  \n",
       "2      code 5  Resolved by 149  29/2/2016 11:29  5/3/2016 12:00  \n",
       "3      code 5  Resolved by 149  29/2/2016 11:29  5/3/2016 12:00  \n",
       "4      code 5   Resolved by 81   1/3/2016 09:52  6/3/2016 10:00  \n",
       "\n",
       "[5 rows x 36 columns]"
      ]
     },
     "execution_count": 2,
     "metadata": {},
     "output_type": "execute_result"
    }
   ],
   "source": [
    "import numpy as np\n",
    "import pandas as pd\n",
    "import matplotlib.pyplot as plt\n",
    "%matplotlib inline\n",
    "\n",
    "df = pd.read_csv('incident_event_log.csv')\n",
    "df.head()"
   ]
  },
  {
   "cell_type": "markdown",
   "metadata": {},
   "source": [
    "Let us examine the rows and columns in the dataset,There are 141712 rows with 36 columns and there is no missing values as checked below."
   ]
  },
  {
   "cell_type": "code",
   "execution_count": 3,
   "metadata": {},
   "outputs": [
    {
     "data": {
      "text/plain": [
       "(141712, 36)"
      ]
     },
     "execution_count": 3,
     "metadata": {},
     "output_type": "execute_result"
    }
   ],
   "source": [
    "df.shape"
   ]
  },
  {
   "cell_type": "code",
   "execution_count": 4,
   "metadata": {},
   "outputs": [
    {
     "ename": "NameError",
     "evalue": "name 'df_closed' is not defined",
     "output_type": "error",
     "traceback": [
      "\u001b[0;31m---------------------------------------------------------------------------\u001b[0m",
      "\u001b[0;31mNameError\u001b[0m                                 Traceback (most recent call last)",
      "\u001b[0;32m<ipython-input-4-f5fbd0947810>\u001b[0m in \u001b[0;36m<module>\u001b[0;34m\u001b[0m\n\u001b[0;32m----> 1\u001b[0;31m \u001b[0mdf_closed\u001b[0m\u001b[0;34m.\u001b[0m\u001b[0misnull\u001b[0m\u001b[0;34m(\u001b[0m\u001b[0;34m)\u001b[0m\u001b[0;34m.\u001b[0m\u001b[0msum\u001b[0m\u001b[0;34m(\u001b[0m\u001b[0;34m)\u001b[0m\u001b[0;34m\u001b[0m\u001b[0;34m\u001b[0m\u001b[0m\n\u001b[0m",
      "\u001b[0;31mNameError\u001b[0m: name 'df_closed' is not defined"
     ]
    }
   ],
   "source": [
    "df_closed.isnull().sum()"
   ]
  },
  {
   "cell_type": "markdown",
   "metadata": {},
   "source": [
    "Here is the distribution of different state of incidents in the data"
   ]
  },
  {
   "cell_type": "code",
   "execution_count": 5,
   "metadata": {},
   "outputs": [
    {
     "data": {
      "image/png": "[encoded data removed]",
      "text/plain": [
       "<Figure size 1080x216 with 1 Axes>"
      ]
     },
     "metadata": {
      "needs_background": "light"
     },
     "output_type": "display_data"
    },
    {
     "data": {
      "text/plain": [
       "Active                38716\n",
       "New                   36407\n",
       "Resolved              25751\n",
       "Closed                24985\n",
       "Awaiting User Info    14642\n",
       "Awaiting Vendor         707\n",
       "Awaiting Problem        461\n",
       "Awaiting Evidence        38\n",
       "-100                      5\n",
       "Name: incident_state, dtype: int64"
      ]
     },
     "execution_count": 5,
     "metadata": {},
     "output_type": "execute_result"
    }
   ],
   "source": [
    "df.groupby('incident_state') \\\n",
    "    .count()['number'] \\\n",
    "    .plot(kind='barh',\n",
    "          title='Distribution of incident_state',\n",
    "          figsize=(15, 3))\n",
    "plt.show()\n",
    "df['incident_state'].value_counts()"
   ]
  },
  {
   "cell_type": "markdown",
   "metadata": {},
   "source": [
    "Filtering out only closed incidents for our analysis as the incident can be in other state for multiple time and closed will be the final state which will give us the unique incident."
   ]
  },
  {
   "cell_type": "code",
   "execution_count": 6,
   "metadata": {},
   "outputs": [],
   "source": [
    "df_closed = df[\"incident_state\"] == \"Closed\"\n",
    "df_closed = df[df_closed]"
   ]
  },
  {
   "cell_type": "markdown",
   "metadata": {},
   "source": [
    "Let us see the data types of each variable, only three variables are numeric rest are charatcer and bool."
   ]
  },
  {
   "cell_type": "code",
   "execution_count": 7,
   "metadata": {},
   "outputs": [
    {
     "data": {
      "text/plain": [
       "number                     object\n",
       "incident_state             object\n",
       "active                       bool\n",
       "reassignment_count          int64\n",
       "reopen_count                int64\n",
       "sys_mod_count               int64\n",
       "made_sla                     bool\n",
       "caller_id                  object\n",
       "opened_by                  object\n",
       "opened_at                  object\n",
       "sys_created_by             object\n",
       "sys_created_at             object\n",
       "sys_updated_by             object\n",
       "sys_updated_at             object\n",
       "contact_type               object\n",
       "location                   object\n",
       "category                   object\n",
       "subcategory                object\n",
       "u_symptom                  object\n",
       "cmdb_ci                    object\n",
       "impact                     object\n",
       "urgency                    object\n",
       "priority                   object\n",
       "assignment_group           object\n",
       "assigned_to                object\n",
       "knowledge                    bool\n",
       "u_priority_confirmation      bool\n",
       "notify                     object\n",
       "problem_id                 object\n",
       "rfc                        object\n",
       "vendor                     object\n",
       "caused_by                  object\n",
       "closed_code                object\n",
       "resolved_by                object\n",
       "resolved_at                object\n",
       "closed_at                  object\n",
       "dtype: object"
      ]
     },
     "execution_count": 7,
     "metadata": {},
     "output_type": "execute_result"
    }
   ],
   "source": [
    "df_closed.dtypes "
   ]
  },
  {
   "cell_type": "markdown",
   "metadata": {},
   "source": [
    "Let us see the stats of numeric variables"
   ]
  },
  {
   "cell_type": "code",
   "execution_count": 8,
   "metadata": {},
   "outputs": [
    {
     "data": {
      "text/html": [
       "<div>\n",
       "<style scoped>\n",
       "    .dataframe tbody tr th:only-of-type {\n",
       "        vertical-align: middle;\n",
       "    }\n",
       "\n",
       "    .dataframe tbody tr th {\n",
       "        vertical-align: top;\n",
       "    }\n",
       "\n",
       "    .dataframe thead th {\n",
       "        text-align: right;\n",
       "    }\n",
       "</style>\n",
       "<table border=\"1\" class=\"dataframe\">\n",
       "  <thead>\n",
       "    <tr style=\"text-align: right;\">\n",
       "      <th></th>\n",
       "      <th>reassignment_count</th>\n",
       "      <th>reopen_count</th>\n",
       "      <th>sys_mod_count</th>\n",
       "    </tr>\n",
       "  </thead>\n",
       "  <tbody>\n",
       "    <tr>\n",
       "      <th>count</th>\n",
       "      <td>24985.000000</td>\n",
       "      <td>24985.000000</td>\n",
       "      <td>24985.000000</td>\n",
       "    </tr>\n",
       "    <tr>\n",
       "      <th>mean</th>\n",
       "      <td>0.941765</td>\n",
       "      <td>0.013368</td>\n",
       "      <td>6.694417</td>\n",
       "    </tr>\n",
       "    <tr>\n",
       "      <th>std</th>\n",
       "      <td>1.573962</td>\n",
       "      <td>0.149116</td>\n",
       "      <td>8.548757</td>\n",
       "    </tr>\n",
       "    <tr>\n",
       "      <th>min</th>\n",
       "      <td>0.000000</td>\n",
       "      <td>0.000000</td>\n",
       "      <td>1.000000</td>\n",
       "    </tr>\n",
       "    <tr>\n",
       "      <th>25%</th>\n",
       "      <td>0.000000</td>\n",
       "      <td>0.000000</td>\n",
       "      <td>2.000000</td>\n",
       "    </tr>\n",
       "    <tr>\n",
       "      <th>50%</th>\n",
       "      <td>0.000000</td>\n",
       "      <td>0.000000</td>\n",
       "      <td>4.000000</td>\n",
       "    </tr>\n",
       "    <tr>\n",
       "      <th>75%</th>\n",
       "      <td>1.000000</td>\n",
       "      <td>0.000000</td>\n",
       "      <td>8.000000</td>\n",
       "    </tr>\n",
       "    <tr>\n",
       "      <th>max</th>\n",
       "      <td>27.000000</td>\n",
       "      <td>8.000000</td>\n",
       "      <td>129.000000</td>\n",
       "    </tr>\n",
       "  </tbody>\n",
       "</table>\n",
       "</div>"
      ],
      "text/plain": [
       "       reassignment_count  reopen_count  sys_mod_count\n",
       "count        24985.000000  24985.000000   24985.000000\n",
       "mean             0.941765      0.013368       6.694417\n",
       "std              1.573962      0.149116       8.548757\n",
       "min              0.000000      0.000000       1.000000\n",
       "25%              0.000000      0.000000       2.000000\n",
       "50%              0.000000      0.000000       4.000000\n",
       "75%              1.000000      0.000000       8.000000\n",
       "max             27.000000      8.000000     129.000000"
      ]
     },
     "execution_count": 8,
     "metadata": {},
     "output_type": "execute_result"
    }
   ],
   "source": [
    "df_closed.describe()"
   ]
  },
  {
   "cell_type": "markdown",
   "metadata": {},
   "source": [
    "# Question 1 - What types of incidents are getting reopened?"
   ]
  },
  {
   "cell_type": "markdown",
   "metadata": {},
   "source": [
    "Incidents are reassigned and reopend sometimes, maximum reassigment is 27 whereas there are incidents which are reopened 8 times.Let us first see that with what close codes incidents are getting closed"
   ]
  },
  {
   "cell_type": "code",
   "execution_count": 9,
   "metadata": {},
   "outputs": [
    {
     "data": {
      "image/png": "[encoded data removed]",
      "text/plain": [
       "<Figure size 1080x216 with 1 Axes>"
      ]
     },
     "metadata": {
      "needs_background": "light"
     },
     "output_type": "display_data"
    },
    {
     "data": {
      "text/plain": [
       "code 6     86583\n",
       "code 7     20733\n",
       "code 9     13562\n",
       "code 8      5646\n",
       "code 5      4469\n",
       "code 1      3265\n",
       "code 10     1678\n",
       "code 11     1493\n",
       "code 4      1139\n",
       "code 16     1091\n",
       "?            714\n",
       "code 3       608\n",
       "code 2       349\n",
       "code 15      183\n",
       "code 17      115\n",
       "code 13       59\n",
       "code 12       13\n",
       "code 14       12\n",
       "Name: closed_code, dtype: int64"
      ]
     },
     "execution_count": 9,
     "metadata": {},
     "output_type": "execute_result"
    }
   ],
   "source": [
    "df.groupby('closed_code') \\\n",
    "    .count()['number'] \\\n",
    "    .plot(kind='barh',\n",
    "          title='Distribution of closed_code',\n",
    "          figsize=(15, 3))\n",
    "plt.show()\n",
    "df['closed_code'].value_counts()"
   ]
  },
  {
   "cell_type": "markdown",
   "metadata": {},
   "source": [
    "Close code 6,7,8,9 are the major ones with which the incidents are getting closed.Now let us check if that happens for the ones which are getting reopened or it is different?"
   ]
  },
  {
   "cell_type": "code",
   "execution_count": 10,
   "metadata": {},
   "outputs": [],
   "source": [
    "df_closed_reo = df_closed[\"reopen_count\"] > 0\n",
    "df_closed_reo = df_closed[df_closed_reo]"
   ]
  },
  {
   "cell_type": "code",
   "execution_count": 11,
   "metadata": {},
   "outputs": [
    {
     "data": {
      "image/png": "[encoded data removed]",
      "text/plain": [
       "<Figure size 1080x216 with 1 Axes>"
      ]
     },
     "metadata": {
      "needs_background": "light"
     },
     "output_type": "display_data"
    },
    {
     "data": {
      "text/plain": [
       "code 6     170\n",
       "code 7      28\n",
       "code 9      27\n",
       "code 1      11\n",
       "code 8      10\n",
       "code 4       9\n",
       "code 5       8\n",
       "code 16      5\n",
       "code 2       3\n",
       "code 11      2\n",
       "code 10      2\n",
       "code 3       2\n",
       "?            1\n",
       "Name: closed_code, dtype: int64"
      ]
     },
     "execution_count": 11,
     "metadata": {},
     "output_type": "execute_result"
    }
   ],
   "source": [
    "df_closed_reo.groupby('closed_code') \\\n",
    "    .count()['number'] \\\n",
    "    .plot(kind='barh',\n",
    "          title='Distribution of closed_code',\n",
    "          figsize=(15, 3))\n",
    "plt.show()\n",
    "df_closed_reo['closed_code'].value_counts()"
   ]
  },
  {
   "cell_type": "markdown",
   "metadata": {},
   "source": [
    "We can see the close code are similar for reopened tickets but we see that there are other close codes too which are ending as reason to close the reopened tickets. Let us now see if these reopened has any pattern with SLA."
   ]
  },
  {
   "cell_type": "code",
   "execution_count": 12,
   "metadata": {},
   "outputs": [
    {
     "data": {
      "text/plain": [
       "True     15831\n",
       "False     9154\n",
       "Name: made_sla, dtype: int64"
      ]
     },
     "execution_count": 12,
     "metadata": {},
     "output_type": "execute_result"
    }
   ],
   "source": [
    "df_closed['made_sla'].value_counts()"
   ]
  },
  {
   "cell_type": "code",
   "execution_count": 13,
   "metadata": {},
   "outputs": [
    {
     "data": {
      "text/plain": [
       "False    210\n",
       "True      68\n",
       "Name: made_sla, dtype: int64"
      ]
     },
     "execution_count": 13,
     "metadata": {},
     "output_type": "execute_result"
    }
   ],
   "source": [
    "df_closed_reo['made_sla'].value_counts()"
   ]
  },
  {
   "cell_type": "markdown",
   "metadata": {},
   "source": [
    "We can see here that SLAs are missed in most of the reopened incidents so if the tickets are getting reopened then there is high chance that SLAs will be missed."
   ]
  },
  {
   "cell_type": "markdown",
   "metadata": {},
   "source": [
    "Let us now examine if there are different symptoms for reopened incidents."
   ]
  },
  {
   "cell_type": "code",
   "execution_count": 14,
   "metadata": {},
   "outputs": [
    {
     "data": {
      "text/plain": [
       "Symptom 491    9272\n",
       "?              5856\n",
       "Symptom 534    1670\n",
       "Symptom 116     485\n",
       "Symptom 387     426\n",
       "               ... \n",
       "Symptom 542       1\n",
       "Symptom 570       1\n",
       "Symptom 407       1\n",
       "Symptom 355       1\n",
       "Symptom 567       1\n",
       "Name: u_symptom, Length: 398, dtype: int64"
      ]
     },
     "execution_count": 14,
     "metadata": {},
     "output_type": "execute_result"
    }
   ],
   "source": [
    "df_closed['u_symptom'].value_counts()"
   ]
  },
  {
   "cell_type": "code",
   "execution_count": 15,
   "metadata": {},
   "outputs": [
    {
     "data": {
      "text/plain": [
       "Symptom 491    104\n",
       "?               58\n",
       "Symptom 532     12\n",
       "Symptom 534      9\n",
       "Symptom 4        7\n",
       "Symptom 296      5\n",
       "Symptom 458      5\n",
       "Symptom 465      4\n",
       "Symptom 208      4\n",
       "Symptom 114      4\n",
       "Symptom 10       4\n",
       "Symptom 116      3\n",
       "Symptom 9        3\n",
       "Symptom 119      3\n",
       "Symptom 387      3\n",
       "Symptom 117      2\n",
       "Symptom 65       2\n",
       "Symptom 120      2\n",
       "Symptom 134      2\n",
       "Symptom 455      2\n",
       "Symptom 315      2\n",
       "Symptom 494      2\n",
       "Symptom 6        2\n",
       "Symptom 87       2\n",
       "Symptom 54       2\n",
       "Symptom 198      1\n",
       "Symptom 118      1\n",
       "Symptom 358      1\n",
       "Symptom 218      1\n",
       "Symptom 596      1\n",
       "Symptom 371      1\n",
       "Symptom 462      1\n",
       "Symptom 102      1\n",
       "Symptom 486      1\n",
       "Symptom 471      1\n",
       "Symptom 70       1\n",
       "Symptom 544      1\n",
       "Symptom 506      1\n",
       "Symptom 517      1\n",
       "Symptom 8        1\n",
       "Symptom 592      1\n",
       "Symptom 105      1\n",
       "Symptom 474      1\n",
       "Symptom 20       1\n",
       "Symptom 381      1\n",
       "Symptom 257      1\n",
       "Symptom 531      1\n",
       "Symptom 463      1\n",
       "Symptom 217      1\n",
       "Symptom 256      1\n",
       "Symptom 127      1\n",
       "Symptom 548      1\n",
       "Symptom 410      1\n",
       "Symptom 273      1\n",
       "Symptom 524      1\n",
       "Name: u_symptom, dtype: int64"
      ]
     },
     "execution_count": 15,
     "metadata": {},
     "output_type": "execute_result"
    }
   ],
   "source": [
    "df_closed_reo['u_symptom'].value_counts()"
   ]
  },
  {
   "cell_type": "markdown",
   "metadata": {},
   "source": [
    "Symptoms are also very similar to other incidents as for reopened so there is no clear pattern with close code and symptoms but we can see that incase of reopened incidents the SLAs get missed."
   ]
  },
  {
   "cell_type": "markdown",
   "metadata": {},
   "source": [
    "# Question 2 - What kind of incidents are missing the SLAs?"
   ]
  },
  {
   "cell_type": "markdown",
   "metadata": {},
   "source": [
    "Now as we see that reopened incidents are missing SLAs so now let us exmaine distribution of incidents which are missing SLAs"
   ]
  },
  {
   "cell_type": "code",
   "execution_count": 16,
   "metadata": {},
   "outputs": [
    {
     "data": {
      "image/png": "[encoded data removed]",
      "text/plain": [
       "<Figure size 1080x216 with 1 Axes>"
      ]
     },
     "metadata": {
      "needs_background": "light"
     },
     "output_type": "display_data"
    },
    {
     "data": {
      "text/plain": [
       "True     15831\n",
       "False     9154\n",
       "Name: made_sla, dtype: int64"
      ]
     },
     "execution_count": 16,
     "metadata": {},
     "output_type": "execute_result"
    }
   ],
   "source": [
    "df_closed_reo.groupby('made_sla') \\\n",
    "    .count()['number'] \\\n",
    "    .plot(kind='barh',\n",
    "          title='Distribution of closed_code',\n",
    "          figsize=(15, 3))\n",
    "plt.show()\n",
    "df_closed['made_sla'].value_counts()"
   ]
  },
  {
   "cell_type": "markdown",
   "metadata": {},
   "source": [
    "Around 37% incidents are missing SLAs so now let us see what kind of incidents usually miss SLAs"
   ]
  },
  {
   "cell_type": "code",
   "execution_count": 17,
   "metadata": {},
   "outputs": [],
   "source": [
    "df_closed_sla = df_closed[\"made_sla\"] == 1\n",
    "df_closed_sla = df_closed[df_closed_sla]"
   ]
  },
  {
   "cell_type": "code",
   "execution_count": 18,
   "metadata": {},
   "outputs": [
    {
     "data": {
      "text/html": [
       "<div>\n",
       "<style scoped>\n",
       "    .dataframe tbody tr th:only-of-type {\n",
       "        vertical-align: middle;\n",
       "    }\n",
       "\n",
       "    .dataframe tbody tr th {\n",
       "        vertical-align: top;\n",
       "    }\n",
       "\n",
       "    .dataframe thead th {\n",
       "        text-align: right;\n",
       "    }\n",
       "</style>\n",
       "<table border=\"1\" class=\"dataframe\">\n",
       "  <thead>\n",
       "    <tr style=\"text-align: right;\">\n",
       "      <th>priority</th>\n",
       "      <th>1 - Critical</th>\n",
       "      <th>2 - High</th>\n",
       "      <th>3 - Moderate</th>\n",
       "      <th>4 - Low</th>\n",
       "    </tr>\n",
       "    <tr>\n",
       "      <th>made_sla</th>\n",
       "      <th></th>\n",
       "      <th></th>\n",
       "      <th></th>\n",
       "      <th></th>\n",
       "    </tr>\n",
       "  </thead>\n",
       "  <tbody>\n",
       "    <tr>\n",
       "      <th>False</th>\n",
       "      <td>265</td>\n",
       "      <td>406</td>\n",
       "      <td>8358</td>\n",
       "      <td>125</td>\n",
       "    </tr>\n",
       "    <tr>\n",
       "      <th>True</th>\n",
       "      <td>6</td>\n",
       "      <td>2</td>\n",
       "      <td>15171</td>\n",
       "      <td>652</td>\n",
       "    </tr>\n",
       "  </tbody>\n",
       "</table>\n",
       "</div>"
      ],
      "text/plain": [
       "priority  1 - Critical  2 - High  3 - Moderate  4 - Low\n",
       "made_sla                                               \n",
       "False              265       406          8358      125\n",
       "True                 6         2         15171      652"
      ]
     },
     "execution_count": 18,
     "metadata": {},
     "output_type": "execute_result"
    }
   ],
   "source": [
    "pd.crosstab(df_closed['made_sla'],df_closed['priority'])"
   ]
  },
  {
   "cell_type": "markdown",
   "metadata": {},
   "source": [
    "There is very clear pattern that if SLAs mostly get missed for critical and high priortiy incidents whereas SLAs are met for Moderate and Low priortiy incidents."
   ]
  },
  {
   "cell_type": "markdown",
   "metadata": {},
   "source": [
    "# Question 3 - What features are important to predict the close code?"
   ]
  },
  {
   "cell_type": "markdown",
   "metadata": {},
   "source": [
    "Based on the given incident data, let us see which features can help us to predict the close code so that incidents can be assigned to relevant team based on the predicted close code. First let us filter out the relevant features"
   ]
  },
  {
   "cell_type": "code",
   "execution_count": 19,
   "metadata": {},
   "outputs": [],
   "source": [
    "df_closed_1 = df_closed.loc[:,['reassignment_count','reopen_count','sys_mod_count','made_sla','location','category','subcategory','u_symptom','priority','vendor']]"
   ]
  },
  {
   "cell_type": "markdown",
   "metadata": {},
   "source": [
    "As we have only categorical variables s0 for each of the categorical variables, we now need to create dummy columns."
   ]
  },
  {
   "cell_type": "code",
   "execution_count": 20,
   "metadata": {},
   "outputs": [],
   "source": [
    "df_closed_dummy = pd.get_dummies(df_closed_1)"
   ]
  },
  {
   "cell_type": "code",
   "execution_count": 21,
   "metadata": {},
   "outputs": [
    {
     "data": {
      "text/html": [
       "<div>\n",
       "<style scoped>\n",
       "    .dataframe tbody tr th:only-of-type {\n",
       "        vertical-align: middle;\n",
       "    }\n",
       "\n",
       "    .dataframe tbody tr th {\n",
       "        vertical-align: top;\n",
       "    }\n",
       "\n",
       "    .dataframe thead th {\n",
       "        text-align: right;\n",
       "    }\n",
       "</style>\n",
       "<table border=\"1\" class=\"dataframe\">\n",
       "  <thead>\n",
       "    <tr style=\"text-align: right;\">\n",
       "      <th></th>\n",
       "      <th>reassignment_count</th>\n",
       "      <th>reopen_count</th>\n",
       "      <th>sys_mod_count</th>\n",
       "      <th>made_sla</th>\n",
       "      <th>location_?</th>\n",
       "      <th>location_Location 10</th>\n",
       "      <th>location_Location 100</th>\n",
       "      <th>location_Location 101</th>\n",
       "      <th>location_Location 102</th>\n",
       "      <th>location_Location 105</th>\n",
       "      <th>...</th>\n",
       "      <th>u_symptom_Symptom 96</th>\n",
       "      <th>u_symptom_Symptom 97</th>\n",
       "      <th>u_symptom_Symptom 99</th>\n",
       "      <th>priority_1 - Critical</th>\n",
       "      <th>priority_2 - High</th>\n",
       "      <th>priority_3 - Moderate</th>\n",
       "      <th>priority_4 - Low</th>\n",
       "      <th>vendor_?</th>\n",
       "      <th>vendor_Vendor 1</th>\n",
       "      <th>vendor_code 8s</th>\n",
       "    </tr>\n",
       "  </thead>\n",
       "  <tbody>\n",
       "    <tr>\n",
       "      <th>3</th>\n",
       "      <td>0</td>\n",
       "      <td>0</td>\n",
       "      <td>4</td>\n",
       "      <td>True</td>\n",
       "      <td>0</td>\n",
       "      <td>0</td>\n",
       "      <td>0</td>\n",
       "      <td>0</td>\n",
       "      <td>0</td>\n",
       "      <td>0</td>\n",
       "      <td>...</td>\n",
       "      <td>0</td>\n",
       "      <td>0</td>\n",
       "      <td>0</td>\n",
       "      <td>0</td>\n",
       "      <td>0</td>\n",
       "      <td>1</td>\n",
       "      <td>0</td>\n",
       "      <td>1</td>\n",
       "      <td>0</td>\n",
       "      <td>0</td>\n",
       "    </tr>\n",
       "    <tr>\n",
       "      <th>12</th>\n",
       "      <td>1</td>\n",
       "      <td>0</td>\n",
       "      <td>8</td>\n",
       "      <td>True</td>\n",
       "      <td>0</td>\n",
       "      <td>0</td>\n",
       "      <td>0</td>\n",
       "      <td>0</td>\n",
       "      <td>0</td>\n",
       "      <td>0</td>\n",
       "      <td>...</td>\n",
       "      <td>0</td>\n",
       "      <td>0</td>\n",
       "      <td>0</td>\n",
       "      <td>0</td>\n",
       "      <td>0</td>\n",
       "      <td>1</td>\n",
       "      <td>0</td>\n",
       "      <td>1</td>\n",
       "      <td>0</td>\n",
       "      <td>0</td>\n",
       "    </tr>\n",
       "    <tr>\n",
       "      <th>19</th>\n",
       "      <td>0</td>\n",
       "      <td>0</td>\n",
       "      <td>6</td>\n",
       "      <td>True</td>\n",
       "      <td>0</td>\n",
       "      <td>0</td>\n",
       "      <td>0</td>\n",
       "      <td>0</td>\n",
       "      <td>0</td>\n",
       "      <td>0</td>\n",
       "      <td>...</td>\n",
       "      <td>0</td>\n",
       "      <td>0</td>\n",
       "      <td>0</td>\n",
       "      <td>0</td>\n",
       "      <td>0</td>\n",
       "      <td>1</td>\n",
       "      <td>0</td>\n",
       "      <td>1</td>\n",
       "      <td>0</td>\n",
       "      <td>0</td>\n",
       "    </tr>\n",
       "    <tr>\n",
       "      <th>23</th>\n",
       "      <td>0</td>\n",
       "      <td>0</td>\n",
       "      <td>3</td>\n",
       "      <td>True</td>\n",
       "      <td>0</td>\n",
       "      <td>0</td>\n",
       "      <td>0</td>\n",
       "      <td>0</td>\n",
       "      <td>0</td>\n",
       "      <td>0</td>\n",
       "      <td>...</td>\n",
       "      <td>0</td>\n",
       "      <td>0</td>\n",
       "      <td>0</td>\n",
       "      <td>0</td>\n",
       "      <td>0</td>\n",
       "      <td>1</td>\n",
       "      <td>0</td>\n",
       "      <td>1</td>\n",
       "      <td>0</td>\n",
       "      <td>0</td>\n",
       "    </tr>\n",
       "    <tr>\n",
       "      <th>31</th>\n",
       "      <td>1</td>\n",
       "      <td>0</td>\n",
       "      <td>7</td>\n",
       "      <td>False</td>\n",
       "      <td>0</td>\n",
       "      <td>0</td>\n",
       "      <td>0</td>\n",
       "      <td>0</td>\n",
       "      <td>0</td>\n",
       "      <td>0</td>\n",
       "      <td>...</td>\n",
       "      <td>0</td>\n",
       "      <td>0</td>\n",
       "      <td>0</td>\n",
       "      <td>0</td>\n",
       "      <td>1</td>\n",
       "      <td>0</td>\n",
       "      <td>0</td>\n",
       "      <td>1</td>\n",
       "      <td>0</td>\n",
       "      <td>0</td>\n",
       "    </tr>\n",
       "  </tbody>\n",
       "</table>\n",
       "<p>5 rows × 934 columns</p>\n",
       "</div>"
      ],
      "text/plain": [
       "    reassignment_count  reopen_count  sys_mod_count  made_sla  location_?  \\\n",
       "3                    0             0              4      True           0   \n",
       "12                   1             0              8      True           0   \n",
       "19                   0             0              6      True           0   \n",
       "23                   0             0              3      True           0   \n",
       "31                   1             0              7     False           0   \n",
       "\n",
       "    location_Location 10  location_Location 100  location_Location 101  \\\n",
       "3                      0                      0                      0   \n",
       "12                     0                      0                      0   \n",
       "19                     0                      0                      0   \n",
       "23                     0                      0                      0   \n",
       "31                     0                      0                      0   \n",
       "\n",
       "    location_Location 102  location_Location 105  ...  u_symptom_Symptom 96  \\\n",
       "3                       0                      0  ...                     0   \n",
       "12                      0                      0  ...                     0   \n",
       "19                      0                      0  ...                     0   \n",
       "23                      0                      0  ...                     0   \n",
       "31                      0                      0  ...                     0   \n",
       "\n",
       "    u_symptom_Symptom 97  u_symptom_Symptom 99  priority_1 - Critical  \\\n",
       "3                      0                     0                      0   \n",
       "12                     0                     0                      0   \n",
       "19                     0                     0                      0   \n",
       "23                     0                     0                      0   \n",
       "31                     0                     0                      0   \n",
       "\n",
       "    priority_2 - High  priority_3 - Moderate  priority_4 - Low  vendor_?  \\\n",
       "3                   0                      1                 0         1   \n",
       "12                  0                      1                 0         1   \n",
       "19                  0                      1                 0         1   \n",
       "23                  0                      1                 0         1   \n",
       "31                  1                      0                 0         1   \n",
       "\n",
       "    vendor_Vendor 1  vendor_code 8s  \n",
       "3                 0               0  \n",
       "12                0               0  \n",
       "19                0               0  \n",
       "23                0               0  \n",
       "31                0               0  \n",
       "\n",
       "[5 rows x 934 columns]"
      ]
     },
     "execution_count": 21,
     "metadata": {},
     "output_type": "execute_result"
    }
   ],
   "source": [
    "df_closed_dummy.head()"
   ]
  },
  {
   "cell_type": "code",
   "execution_count": 22,
   "metadata": {},
   "outputs": [],
   "source": [
    "df_closed_dummy['closed_code']= df_closed['closed_code']"
   ]
  },
  {
   "cell_type": "markdown",
   "metadata": {},
   "source": [
    "Let us Split into explanatory and response variables"
   ]
  },
  {
   "cell_type": "code",
   "execution_count": 23,
   "metadata": {},
   "outputs": [],
   "source": [
    "Y = df_closed_dummy['closed_code']\n",
    "X = df_closed_dummy.drop(columns=['closed_code'])"
   ]
  },
  {
   "cell_type": "code",
   "execution_count": 24,
   "metadata": {},
   "outputs": [
    {
     "data": {
      "text/html": [
       "<div>\n",
       "<style scoped>\n",
       "    .dataframe tbody tr th:only-of-type {\n",
       "        vertical-align: middle;\n",
       "    }\n",
       "\n",
       "    .dataframe tbody tr th {\n",
       "        vertical-align: top;\n",
       "    }\n",
       "\n",
       "    .dataframe thead th {\n",
       "        text-align: right;\n",
       "    }\n",
       "</style>\n",
       "<table border=\"1\" class=\"dataframe\">\n",
       "  <thead>\n",
       "    <tr style=\"text-align: right;\">\n",
       "      <th></th>\n",
       "      <th>reassignment_count</th>\n",
       "      <th>reopen_count</th>\n",
       "      <th>sys_mod_count</th>\n",
       "      <th>made_sla</th>\n",
       "      <th>location_?</th>\n",
       "      <th>location_Location 10</th>\n",
       "      <th>location_Location 100</th>\n",
       "      <th>location_Location 101</th>\n",
       "      <th>location_Location 102</th>\n",
       "      <th>location_Location 105</th>\n",
       "      <th>...</th>\n",
       "      <th>u_symptom_Symptom 96</th>\n",
       "      <th>u_symptom_Symptom 97</th>\n",
       "      <th>u_symptom_Symptom 99</th>\n",
       "      <th>priority_1 - Critical</th>\n",
       "      <th>priority_2 - High</th>\n",
       "      <th>priority_3 - Moderate</th>\n",
       "      <th>priority_4 - Low</th>\n",
       "      <th>vendor_?</th>\n",
       "      <th>vendor_Vendor 1</th>\n",
       "      <th>vendor_code 8s</th>\n",
       "    </tr>\n",
       "  </thead>\n",
       "  <tbody>\n",
       "    <tr>\n",
       "      <th>3</th>\n",
       "      <td>0</td>\n",
       "      <td>0</td>\n",
       "      <td>4</td>\n",
       "      <td>True</td>\n",
       "      <td>0</td>\n",
       "      <td>0</td>\n",
       "      <td>0</td>\n",
       "      <td>0</td>\n",
       "      <td>0</td>\n",
       "      <td>0</td>\n",
       "      <td>...</td>\n",
       "      <td>0</td>\n",
       "      <td>0</td>\n",
       "      <td>0</td>\n",
       "      <td>0</td>\n",
       "      <td>0</td>\n",
       "      <td>1</td>\n",
       "      <td>0</td>\n",
       "      <td>1</td>\n",
       "      <td>0</td>\n",
       "      <td>0</td>\n",
       "    </tr>\n",
       "    <tr>\n",
       "      <th>12</th>\n",
       "      <td>1</td>\n",
       "      <td>0</td>\n",
       "      <td>8</td>\n",
       "      <td>True</td>\n",
       "      <td>0</td>\n",
       "      <td>0</td>\n",
       "      <td>0</td>\n",
       "      <td>0</td>\n",
       "      <td>0</td>\n",
       "      <td>0</td>\n",
       "      <td>...</td>\n",
       "      <td>0</td>\n",
       "      <td>0</td>\n",
       "      <td>0</td>\n",
       "      <td>0</td>\n",
       "      <td>0</td>\n",
       "      <td>1</td>\n",
       "      <td>0</td>\n",
       "      <td>1</td>\n",
       "      <td>0</td>\n",
       "      <td>0</td>\n",
       "    </tr>\n",
       "    <tr>\n",
       "      <th>19</th>\n",
       "      <td>0</td>\n",
       "      <td>0</td>\n",
       "      <td>6</td>\n",
       "      <td>True</td>\n",
       "      <td>0</td>\n",
       "      <td>0</td>\n",
       "      <td>0</td>\n",
       "      <td>0</td>\n",
       "      <td>0</td>\n",
       "      <td>0</td>\n",
       "      <td>...</td>\n",
       "      <td>0</td>\n",
       "      <td>0</td>\n",
       "      <td>0</td>\n",
       "      <td>0</td>\n",
       "      <td>0</td>\n",
       "      <td>1</td>\n",
       "      <td>0</td>\n",
       "      <td>1</td>\n",
       "      <td>0</td>\n",
       "      <td>0</td>\n",
       "    </tr>\n",
       "    <tr>\n",
       "      <th>23</th>\n",
       "      <td>0</td>\n",
       "      <td>0</td>\n",
       "      <td>3</td>\n",
       "      <td>True</td>\n",
       "      <td>0</td>\n",
       "      <td>0</td>\n",
       "      <td>0</td>\n",
       "      <td>0</td>\n",
       "      <td>0</td>\n",
       "      <td>0</td>\n",
       "      <td>...</td>\n",
       "      <td>0</td>\n",
       "      <td>0</td>\n",
       "      <td>0</td>\n",
       "      <td>0</td>\n",
       "      <td>0</td>\n",
       "      <td>1</td>\n",
       "      <td>0</td>\n",
       "      <td>1</td>\n",
       "      <td>0</td>\n",
       "      <td>0</td>\n",
       "    </tr>\n",
       "    <tr>\n",
       "      <th>31</th>\n",
       "      <td>1</td>\n",
       "      <td>0</td>\n",
       "      <td>7</td>\n",
       "      <td>False</td>\n",
       "      <td>0</td>\n",
       "      <td>0</td>\n",
       "      <td>0</td>\n",
       "      <td>0</td>\n",
       "      <td>0</td>\n",
       "      <td>0</td>\n",
       "      <td>...</td>\n",
       "      <td>0</td>\n",
       "      <td>0</td>\n",
       "      <td>0</td>\n",
       "      <td>0</td>\n",
       "      <td>1</td>\n",
       "      <td>0</td>\n",
       "      <td>0</td>\n",
       "      <td>1</td>\n",
       "      <td>0</td>\n",
       "      <td>0</td>\n",
       "    </tr>\n",
       "  </tbody>\n",
       "</table>\n",
       "<p>5 rows × 934 columns</p>\n",
       "</div>"
      ],
      "text/plain": [
       "    reassignment_count  reopen_count  sys_mod_count  made_sla  location_?  \\\n",
       "3                    0             0              4      True           0   \n",
       "12                   1             0              8      True           0   \n",
       "19                   0             0              6      True           0   \n",
       "23                   0             0              3      True           0   \n",
       "31                   1             0              7     False           0   \n",
       "\n",
       "    location_Location 10  location_Location 100  location_Location 101  \\\n",
       "3                      0                      0                      0   \n",
       "12                     0                      0                      0   \n",
       "19                     0                      0                      0   \n",
       "23                     0                      0                      0   \n",
       "31                     0                      0                      0   \n",
       "\n",
       "    location_Location 102  location_Location 105  ...  u_symptom_Symptom 96  \\\n",
       "3                       0                      0  ...                     0   \n",
       "12                      0                      0  ...                     0   \n",
       "19                      0                      0  ...                     0   \n",
       "23                      0                      0  ...                     0   \n",
       "31                      0                      0  ...                     0   \n",
       "\n",
       "    u_symptom_Symptom 97  u_symptom_Symptom 99  priority_1 - Critical  \\\n",
       "3                      0                     0                      0   \n",
       "12                     0                     0                      0   \n",
       "19                     0                     0                      0   \n",
       "23                     0                     0                      0   \n",
       "31                     0                     0                      0   \n",
       "\n",
       "    priority_2 - High  priority_3 - Moderate  priority_4 - Low  vendor_?  \\\n",
       "3                   0                      1                 0         1   \n",
       "12                  0                      1                 0         1   \n",
       "19                  0                      1                 0         1   \n",
       "23                  0                      1                 0         1   \n",
       "31                  1                      0                 0         1   \n",
       "\n",
       "    vendor_Vendor 1  vendor_code 8s  \n",
       "3                 0               0  \n",
       "12                0               0  \n",
       "19                0               0  \n",
       "23                0               0  \n",
       "31                0               0  \n",
       "\n",
       "[5 rows x 934 columns]"
      ]
     },
     "execution_count": 24,
     "metadata": {},
     "output_type": "execute_result"
    }
   ],
   "source": [
    "X.head()"
   ]
  },
  {
   "cell_type": "markdown",
   "metadata": {},
   "source": [
    "We will fit random forest model to check which features are coming as important for predicting the close code."
   ]
  },
  {
   "cell_type": "code",
   "execution_count": 25,
   "metadata": {},
   "outputs": [
    {
     "data": {
      "text/plain": [
       "RandomForestClassifier(n_estimators=200, random_state=100)"
      ]
     },
     "execution_count": 25,
     "metadata": {},
     "output_type": "execute_result"
    }
   ],
   "source": [
    "from sklearn.ensemble import RandomForestClassifier\n",
    "model = RandomForestClassifier(n_estimators=200\n",
    "                               ,random_state=100)\n",
    "\n",
    "model.fit(X,Y)"
   ]
  },
  {
   "cell_type": "code",
   "execution_count": 26,
   "metadata": {},
   "outputs": [
    {
     "data": {
      "text/plain": [
       "<matplotlib.axes._subplots.AxesSubplot at 0x7f9639eb7af0>"
      ]
     },
     "execution_count": 26,
     "metadata": {},
     "output_type": "execute_result"
    },
    {
     "data": {
      "image/png": "[encoded data removed]",
      "text/plain": [
       "<Figure size 432x288 with 1 Axes>"
      ]
     },
     "metadata": {
      "needs_background": "light"
     },
     "output_type": "display_data"
    }
   ],
   "source": [
    "feat_importances = pd.Series(model.feature_importances_, index=X.columns)\n",
    "feat_importances.nlargest(20).plot(kind='barh')"
   ]
  },
  {
   "cell_type": "markdown",
   "metadata": {},
   "source": [
    "Most important feature that will help us in our prediction is sys_mod_count that is number of incident updates until that moment which makes sense as based on the system updates there will some pattern that what would be best resolution for the given incidents. Next features in reassignment count and if the incident has met SLA or not, symptom and location also coming as important features."
   ]
  },
  {
   "cell_type": "code",
   "execution_count": null,
   "metadata": {},
   "outputs": [],
   "source": []
  },
  {
   "cell_type": "code",
   "execution_count": null,
   "metadata": {},
   "outputs": [],
   "source": []
  }
 ],
 "metadata": {
  "kernelspec": {
   "display_name": "Python 3",
   "language": "python",
   "name": "python3"
  },
  "language_info": {
   "codemirror_mode": {
    "name": "ipython",
    "version": 3
   },
   "file_extension": ".py",
   "mimetype": "text/x-python",
   "name": "python",
   "nbconvert_exporter": "python",
   "pygments_lexer": "ipython3",
   "version": "3.8.5"
  }
 },
 "nbformat": 4,
 "nbformat_minor": 2
}
