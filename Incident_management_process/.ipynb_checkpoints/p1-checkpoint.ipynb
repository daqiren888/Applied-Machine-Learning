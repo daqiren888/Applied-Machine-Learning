{
 "cells": [
  {
   "cell_type": "markdown",
   "metadata": {
    "colab_type": "text",
    "id": "z6UHmLYVhWAN"
   },
   "source": [
    "# Project Incident impact prediction "
   ]
  },
  {
   "cell_type": "markdown",
   "metadata": {
    "colab_type": "text",
    "id": "03M_JSg3hWAO"
   },
   "source": [
    "Data Set Information:\n",
    "\n",
    "This is an event log of an incident management process extracted from data gathered from the audit system of an instance of the ServiceNowTM platform used by an IT company. The event log is enriched with data loaded from a relational database underlying a corresponding process-aware information system. Information was anonymized for privacy.\n",
    "\n",
    "Number of instances: 141,712 events (24,918 incidents)\n",
    "Number of attributes: 36 attributes (1 case identifier, 1 state identifier, 32 descriptive attributes, 2 dependent variables)\n",
    "\n",
    "The attributed â€˜closed_atâ€™ is used to determine the dependent variable for the time completion prediction task. The attribute â€˜resolved_atâ€™ is highly correlated with â€˜closed_atâ€™. In this event log, some rows may have the same values (they are equal) since not all attributes involved in the real-world process are present in the log.\n",
    "\n",
    "Attributes used to record textual information are not placed in this log. \n"
   ]
  },
  {
   "cell_type": "code",
   "execution_count": 140,
   "metadata": {
    "colab": {},
    "colab_type": "code",
    "id": "iJ9ayCvyhWAP"
   },
   "outputs": [],
   "source": [
    "# This tells matplotlib not to try opening a new window for each plot.\n",
    "%matplotlib inline\n",
    "\n",
    "# Import a bunch of libraries.\n",
    "import time\n",
    "import numpy as np\n",
    "import matplotlib.pyplot as plt\n",
    "import seaborn as sns\n",
    "import pandas as pd\n",
    "import tensorflow as tf\n",
    "\n",
    "from matplotlib.ticker import MultipleLocator\n",
    "from sklearn.pipeline import Pipeline\n",
    "from sklearn.datasets import fetch_openml\n",
    "from sklearn.neighbors import KNeighborsClassifier\n",
    "from sklearn.metrics import confusion_matrix\n",
    "from sklearn.linear_model import LinearRegression\n",
    "from sklearn.naive_bayes import BernoulliNB\n",
    "from sklearn.naive_bayes import MultinomialNB\n",
    "from sklearn.naive_bayes import GaussianNB\n",
    "from sklearn.model_selection import GridSearchCV\n",
    "from sklearn.metrics import classification_report\n",
    "from sklearn.metrics import mean_squared_error, r2_score\n",
    "from datetime import date\n",
    "from cycler import cycler\n",
    "\n",
    "\n",
    "# Set the randomizer seed so results are the same each time.\n",
    "np.random.seed(0)\n"
   ]
  },
  {
   "cell_type": "code",
   "execution_count": 141,
   "metadata": {},
   "outputs": [
    {
     "data": {
      "text/plain": [
       "'0.24.2'"
      ]
     },
     "execution_count": 141,
     "metadata": {},
     "output_type": "execute_result"
    }
   ],
   "source": [
    "import sklearn\n",
    "sklearn.__version__"
   ]
  },
  {
   "cell_type": "markdown",
   "metadata": {
    "colab_type": "text",
    "id": "sO1t0ypThWAR"
   },
   "source": [
    "Load the data. Notice that the data gets partitioned into training, development, and test sets. Also, a small subset of the training data called mini_train_data and mini_train_labels gets defined, which you should use in all the experiments below, unless otherwise noted."
   ]
  },
  {
   "cell_type": "code",
   "execution_count": 142,
   "metadata": {},
   "outputs": [
    {
     "name": "stdout",
     "output_type": "stream",
     "text": [
      "       number incident_state  active  reassignment_count  reopen_count  \\\n",
      "0  INC0000045            New    True                   0             0   \n",
      "1  INC0000045       Resolved    True                   0             0   \n",
      "2  INC0000045       Resolved    True                   0             0   \n",
      "3  INC0000045         Closed   False                   0             0   \n",
      "4  INC0000047            New    True                   0             0   \n",
      "5  INC0000047         Active    True                   1             0   \n",
      "\n",
      "   sys_mod_count  made_sla    caller_id       opened_by        opened_at  ...  \\\n",
      "0              0      True  Caller 2403    Opened by  8  29/2/2016 01:16  ...   \n",
      "1              2      True  Caller 2403    Opened by  8  29/2/2016 01:16  ...   \n",
      "2              3      True  Caller 2403    Opened by  8  29/2/2016 01:16  ...   \n",
      "3              4      True  Caller 2403    Opened by  8  29/2/2016 01:16  ...   \n",
      "4              0      True  Caller 2403  Opened by  397  29/2/2016 04:40  ...   \n",
      "5              1      True  Caller 2403  Opened by  397  29/2/2016 04:40  ...   \n",
      "\n",
      "  u_priority_confirmation         notify problem_id rfc vendor caused_by  \\\n",
      "0                   False  Do Not Notify          ?   ?      ?         ?   \n",
      "1                   False  Do Not Notify          ?   ?      ?         ?   \n",
      "2                   False  Do Not Notify          ?   ?      ?         ?   \n",
      "3                   False  Do Not Notify          ?   ?      ?         ?   \n",
      "4                   False  Do Not Notify          ?   ?      ?         ?   \n",
      "5                   False  Do Not Notify          ?   ?      ?         ?   \n",
      "\n",
      "  closed_code      resolved_by      resolved_at       closed_at  \n",
      "0      code 5  Resolved by 149  29/2/2016 11:29  5/3/2016 12:00  \n",
      "1      code 5  Resolved by 149  29/2/2016 11:29  5/3/2016 12:00  \n",
      "2      code 5  Resolved by 149  29/2/2016 11:29  5/3/2016 12:00  \n",
      "3      code 5  Resolved by 149  29/2/2016 11:29  5/3/2016 12:00  \n",
      "4      code 5   Resolved by 81   1/3/2016 09:52  6/3/2016 10:00  \n",
      "5      code 5   Resolved by 81   1/3/2016 09:52  6/3/2016 10:00  \n",
      "\n",
      "[6 rows x 36 columns]\n",
      "data shape:  (141712, 36)\n"
     ]
    }
   ],
   "source": [
    "df = pd.read_csv(\"incident_event_log.csv\")\n",
    "print(df.head(6))\n",
    " \n",
    "print('data shape: ', df.shape)"
   ]
  },
  {
   "cell_type": "code",
   "execution_count": 159,
   "metadata": {},
   "outputs": [
    {
     "data": {
      "image/png": "[encoded data removed]",
      "text/plain": [
       "<Figure size 1080x216 with 1 Axes>"
      ]
     },
     "metadata": {
      "needs_background": "light"
     },
     "output_type": "display_data"
    },
    {
     "data": {
      "text/plain": [
       "Active                38716\n",
       "New                   36407\n",
       "Resolved              25751\n",
       "Closed                24985\n",
       "Awaiting User Info    14642\n",
       "Awaiting Vendor         707\n",
       "Awaiting Problem        461\n",
       "Awaiting Evidence        38\n",
       "-100                      5\n",
       "Name: incident_state, dtype: int64"
      ]
     },
     "execution_count": 159,
     "metadata": {},
     "output_type": "execute_result"
    }
   ],
   "source": [
    "import matplotlib.cm as cm\n",
    "data.groupby('incident_state') \\\n",
    "    .count()['number'] \\\n",
    "    .plot.barh(\n",
    "          title='Distribution of incident_state',   \n",
    "          color= cm.rainbow(np.linspace(0, 6)),\n",
    "          figsize=(15, 3))\n",
    " \n",
    "plt.show()\n",
    "data['incident_state'].value_counts()"
   ]
  },
  {
   "cell_type": "code",
   "execution_count": 90,
   "metadata": {},
   "outputs": [
    {
     "data": {
      "text/html": [
       "<div>\n",
       "<style scoped>\n",
       "    .dataframe tbody tr th:only-of-type {\n",
       "        vertical-align: middle;\n",
       "    }\n",
       "\n",
       "    .dataframe tbody tr th {\n",
       "        vertical-align: top;\n",
       "    }\n",
       "\n",
       "    .dataframe thead th {\n",
       "        text-align: right;\n",
       "    }\n",
       "</style>\n",
       "<table border=\"1\" class=\"dataframe\">\n",
       "  <thead>\n",
       "    <tr style=\"text-align: right;\">\n",
       "      <th></th>\n",
       "      <th>reassignment_count</th>\n",
       "      <th>reopen_count</th>\n",
       "      <th>sys_mod_count</th>\n",
       "    </tr>\n",
       "  </thead>\n",
       "  <tbody>\n",
       "    <tr>\n",
       "      <th>count</th>\n",
       "      <td>24985.000000</td>\n",
       "      <td>24985.000000</td>\n",
       "      <td>24985.000000</td>\n",
       "    </tr>\n",
       "    <tr>\n",
       "      <th>mean</th>\n",
       "      <td>0.941765</td>\n",
       "      <td>0.013368</td>\n",
       "      <td>6.694417</td>\n",
       "    </tr>\n",
       "    <tr>\n",
       "      <th>std</th>\n",
       "      <td>1.573962</td>\n",
       "      <td>0.149116</td>\n",
       "      <td>8.548757</td>\n",
       "    </tr>\n",
       "    <tr>\n",
       "      <th>min</th>\n",
       "      <td>0.000000</td>\n",
       "      <td>0.000000</td>\n",
       "      <td>1.000000</td>\n",
       "    </tr>\n",
       "    <tr>\n",
       "      <th>25%</th>\n",
       "      <td>0.000000</td>\n",
       "      <td>0.000000</td>\n",
       "      <td>2.000000</td>\n",
       "    </tr>\n",
       "    <tr>\n",
       "      <th>50%</th>\n",
       "      <td>0.000000</td>\n",
       "      <td>0.000000</td>\n",
       "      <td>4.000000</td>\n",
       "    </tr>\n",
       "    <tr>\n",
       "      <th>75%</th>\n",
       "      <td>1.000000</td>\n",
       "      <td>0.000000</td>\n",
       "      <td>8.000000</td>\n",
       "    </tr>\n",
       "    <tr>\n",
       "      <th>max</th>\n",
       "      <td>27.000000</td>\n",
       "      <td>8.000000</td>\n",
       "      <td>129.000000</td>\n",
       "    </tr>\n",
       "  </tbody>\n",
       "</table>\n",
       "</div>"
      ],
      "text/plain": [
       "       reassignment_count  reopen_count  sys_mod_count\n",
       "count        24985.000000  24985.000000   24985.000000\n",
       "mean             0.941765      0.013368       6.694417\n",
       "std              1.573962      0.149116       8.548757\n",
       "min              0.000000      0.000000       1.000000\n",
       "25%              0.000000      0.000000       2.000000\n",
       "50%              0.000000      0.000000       4.000000\n",
       "75%              1.000000      0.000000       8.000000\n",
       "max             27.000000      8.000000     129.000000"
      ]
     },
     "execution_count": 90,
     "metadata": {},
     "output_type": "execute_result"
    }
   ],
   "source": [
    "df_closed = df[\"incident_state\"] == \"Closed\"\n",
    "df_closed = df[df_closed]\n",
    "df_closed.dtypes \n",
    "df_closed.describe()\n"
   ]
  },
  {
   "cell_type": "code",
   "execution_count": 166,
   "metadata": {},
   "outputs": [
    {
     "data": {
      "image/png": "[encoded data removed]",
      "text/plain": [
       "<Figure size 1080x216 with 1 Axes>"
      ]
     },
     "metadata": {
      "needs_background": "light"
     },
     "output_type": "display_data"
    },
    {
     "data": {
      "text/plain": [
       "code 6     86583\n",
       "code 7     20733\n",
       "code 9     13562\n",
       "code 8      5646\n",
       "code 5      4469\n",
       "code 1      3265\n",
       "code 10     1678\n",
       "code 11     1493\n",
       "code 4      1139\n",
       "code 16     1091\n",
       "?            714\n",
       "code 3       608\n",
       "code 2       349\n",
       "code 15      183\n",
       "code 17      115\n",
       "code 13       59\n",
       "code 12       13\n",
       "code 14       12\n",
       "Name: closed_code, dtype: int64"
      ]
     },
     "execution_count": 166,
     "metadata": {},
     "output_type": "execute_result"
    }
   ],
   "source": [
    "df.groupby('closed_code') \\\n",
    "    .count()['number'] \\\n",
    "    .plot(kind='barh',\n",
    "          title='Distribution of closed_code',\n",
    "          color= cm.rainbow(np.linspace(0, 2)),\n",
    "          figsize=(15, 3))\n",
    "plt.show()\n",
    "df['closed_code'].value_counts()"
   ]
  },
  {
   "cell_type": "code",
   "execution_count": null,
   "metadata": {},
   "outputs": [],
   "source": []
  },
  {
   "cell_type": "code",
   "execution_count": 167,
   "metadata": {},
   "outputs": [
    {
     "data": {
      "image/png": "[encoded data removed]",
      "text/plain": [
       "<Figure size 1080x216 with 1 Axes>"
      ]
     },
     "metadata": {
      "needs_background": "light"
     },
     "output_type": "display_data"
    },
    {
     "data": {
      "text/plain": [
       "code 6     170\n",
       "code 7      28\n",
       "code 9      27\n",
       "code 1      11\n",
       "code 8      10\n",
       "code 4       9\n",
       "code 5       8\n",
       "code 16      5\n",
       "code 2       3\n",
       "code 11      2\n",
       "code 10      2\n",
       "code 3       2\n",
       "?            1\n",
       "Name: closed_code, dtype: int64"
      ]
     },
     "execution_count": 167,
     "metadata": {},
     "output_type": "execute_result"
    }
   ],
   "source": [
    "df_closed_reo = df_closed[\"reopen_count\"] > 0\n",
    "df_closed_reo = df_closed[df_closed_reo]\n",
    "\n",
    "df_closed_reo.groupby('closed_code') \\\n",
    "    .count()['number'] \\\n",
    "    .plot(kind='barh',\n",
    "          title='Distribution of closed_code',\n",
    "          color= cm.rainbow(np.linspace(0, 2)),\n",
    "          figsize=(15, 3))\n",
    "plt.show()\n",
    "df_closed_reo['closed_code'].value_counts()"
   ]
  },
  {
   "cell_type": "code",
   "execution_count": 94,
   "metadata": {},
   "outputs": [
    {
     "data": {
      "text/plain": [
       "Symptom 491    104\n",
       "?               58\n",
       "Symptom 532     12\n",
       "Symptom 534      9\n",
       "Symptom 4        7\n",
       "Symptom 296      5\n",
       "Symptom 458      5\n",
       "Symptom 465      4\n",
       "Symptom 10       4\n",
       "Symptom 114      4\n",
       "Symptom 208      4\n",
       "Symptom 387      3\n",
       "Symptom 116      3\n",
       "Symptom 9        3\n",
       "Symptom 119      3\n",
       "Symptom 315      2\n",
       "Symptom 6        2\n",
       "Symptom 455      2\n",
       "Symptom 87       2\n",
       "Symptom 117      2\n",
       "Symptom 134      2\n",
       "Symptom 54       2\n",
       "Symptom 65       2\n",
       "Symptom 120      2\n",
       "Symptom 494      2\n",
       "Symptom 463      1\n",
       "Symptom 596      1\n",
       "Symptom 20       1\n",
       "Symptom 217      1\n",
       "Symptom 273      1\n",
       "Symptom 118      1\n",
       "Symptom 592      1\n",
       "Symptom 257      1\n",
       "Symptom 517      1\n",
       "Symptom 544      1\n",
       "Symptom 486      1\n",
       "Symptom 381      1\n",
       "Symptom 8        1\n",
       "Symptom 548      1\n",
       "Symptom 218      1\n",
       "Symptom 531      1\n",
       "Symptom 70       1\n",
       "Symptom 105      1\n",
       "Symptom 198      1\n",
       "Symptom 102      1\n",
       "Symptom 506      1\n",
       "Symptom 474      1\n",
       "Symptom 462      1\n",
       "Symptom 524      1\n",
       "Symptom 358      1\n",
       "Symptom 256      1\n",
       "Symptom 410      1\n",
       "Symptom 127      1\n",
       "Symptom 471      1\n",
       "Symptom 371      1\n",
       "Name: u_symptom, dtype: int64"
      ]
     },
     "execution_count": 94,
     "metadata": {},
     "output_type": "execute_result"
    }
   ],
   "source": [
    "df_closed['made_sla'].value_counts()\n",
    "df_closed_reo['made_sla'].value_counts()\n",
    "df_closed['u_symptom'].value_counts()\n",
    "df_closed_reo['u_symptom'].value_counts()"
   ]
  },
  {
   "cell_type": "markdown",
   "metadata": {},
   "source": [
    "# Question 2 - What kind of incidents are missing the SLAs?"
   ]
  },
  {
   "cell_type": "code",
   "execution_count": 170,
   "metadata": {},
   "outputs": [
    {
     "data": {
      "image/png": "[encoded data removed]",
      "text/plain": [
       "<Figure size 1080x216 with 1 Axes>"
      ]
     },
     "metadata": {
      "needs_background": "light"
     },
     "output_type": "display_data"
    },
    {
     "data": {
      "text/plain": [
       "True     15831\n",
       "False     9154\n",
       "Name: made_sla, dtype: int64"
      ]
     },
     "execution_count": 170,
     "metadata": {},
     "output_type": "execute_result"
    }
   ],
   "source": [
    "df_closed_reo.groupby('made_sla') \\\n",
    "    .count()['number'] \\\n",
    "    .plot(kind='barh',\n",
    "          title='Distribution of closed_code',\n",
    "          color= cm.rainbow(np.linspace(0, 10)),\n",
    "          figsize=(15, 3))\n",
    "plt.show()\n",
    "df_closed['made_sla'].value_counts()"
   ]
  },
  {
   "cell_type": "code",
   "execution_count": 96,
   "metadata": {},
   "outputs": [
    {
     "data": {
      "text/html": [
       "<div>\n",
       "<style scoped>\n",
       "    .dataframe tbody tr th:only-of-type {\n",
       "        vertical-align: middle;\n",
       "    }\n",
       "\n",
       "    .dataframe tbody tr th {\n",
       "        vertical-align: top;\n",
       "    }\n",
       "\n",
       "    .dataframe thead th {\n",
       "        text-align: right;\n",
       "    }\n",
       "</style>\n",
       "<table border=\"1\" class=\"dataframe\">\n",
       "  <thead>\n",
       "    <tr style=\"text-align: right;\">\n",
       "      <th>priority</th>\n",
       "      <th>1 - Critical</th>\n",
       "      <th>2 - High</th>\n",
       "      <th>3 - Moderate</th>\n",
       "      <th>4 - Low</th>\n",
       "    </tr>\n",
       "    <tr>\n",
       "      <th>made_sla</th>\n",
       "      <th></th>\n",
       "      <th></th>\n",
       "      <th></th>\n",
       "      <th></th>\n",
       "    </tr>\n",
       "  </thead>\n",
       "  <tbody>\n",
       "    <tr>\n",
       "      <th>False</th>\n",
       "      <td>265</td>\n",
       "      <td>406</td>\n",
       "      <td>8358</td>\n",
       "      <td>125</td>\n",
       "    </tr>\n",
       "    <tr>\n",
       "      <th>True</th>\n",
       "      <td>6</td>\n",
       "      <td>2</td>\n",
       "      <td>15171</td>\n",
       "      <td>652</td>\n",
       "    </tr>\n",
       "  </tbody>\n",
       "</table>\n",
       "</div>"
      ],
      "text/plain": [
       "priority  1 - Critical  2 - High  3 - Moderate  4 - Low\n",
       "made_sla                                               \n",
       "False              265       406          8358      125\n",
       "True                 6         2         15171      652"
      ]
     },
     "execution_count": 96,
     "metadata": {},
     "output_type": "execute_result"
    }
   ],
   "source": [
    "df_closed_sla = df_closed[\"made_sla\"] == 1\n",
    "df_closed_sla = df_closed[df_closed_sla]\n",
    "pd.crosstab(df_closed['made_sla'],df_closed['priority'])"
   ]
  },
  {
   "cell_type": "markdown",
   "metadata": {},
   "source": [
    "# Question 3 - What features are important to predict the close code?"
   ]
  },
  {
   "cell_type": "code",
   "execution_count": 98,
   "metadata": {},
   "outputs": [],
   "source": [
    "df_closed_1 = df_closed.loc[:,['reassignment_count','reopen_count','sys_mod_count','made_sla','location','category','subcategory','u_symptom','priority','vendor']]"
   ]
  },
  {
   "cell_type": "code",
   "execution_count": 99,
   "metadata": {},
   "outputs": [
    {
     "data": {
      "text/html": [
       "<div>\n",
       "<style scoped>\n",
       "    .dataframe tbody tr th:only-of-type {\n",
       "        vertical-align: middle;\n",
       "    }\n",
       "\n",
       "    .dataframe tbody tr th {\n",
       "        vertical-align: top;\n",
       "    }\n",
       "\n",
       "    .dataframe thead th {\n",
       "        text-align: right;\n",
       "    }\n",
       "</style>\n",
       "<table border=\"1\" class=\"dataframe\">\n",
       "  <thead>\n",
       "    <tr style=\"text-align: right;\">\n",
       "      <th></th>\n",
       "      <th>reassignment_count</th>\n",
       "      <th>reopen_count</th>\n",
       "      <th>sys_mod_count</th>\n",
       "      <th>made_sla</th>\n",
       "      <th>location_?</th>\n",
       "      <th>location_Location 10</th>\n",
       "      <th>location_Location 100</th>\n",
       "      <th>location_Location 101</th>\n",
       "      <th>location_Location 102</th>\n",
       "      <th>location_Location 105</th>\n",
       "      <th>...</th>\n",
       "      <th>u_symptom_Symptom 96</th>\n",
       "      <th>u_symptom_Symptom 97</th>\n",
       "      <th>u_symptom_Symptom 99</th>\n",
       "      <th>priority_1 - Critical</th>\n",
       "      <th>priority_2 - High</th>\n",
       "      <th>priority_3 - Moderate</th>\n",
       "      <th>priority_4 - Low</th>\n",
       "      <th>vendor_?</th>\n",
       "      <th>vendor_Vendor 1</th>\n",
       "      <th>vendor_code 8s</th>\n",
       "    </tr>\n",
       "  </thead>\n",
       "  <tbody>\n",
       "    <tr>\n",
       "      <th>3</th>\n",
       "      <td>0</td>\n",
       "      <td>0</td>\n",
       "      <td>4</td>\n",
       "      <td>True</td>\n",
       "      <td>0</td>\n",
       "      <td>0</td>\n",
       "      <td>0</td>\n",
       "      <td>0</td>\n",
       "      <td>0</td>\n",
       "      <td>0</td>\n",
       "      <td>...</td>\n",
       "      <td>0</td>\n",
       "      <td>0</td>\n",
       "      <td>0</td>\n",
       "      <td>0</td>\n",
       "      <td>0</td>\n",
       "      <td>1</td>\n",
       "      <td>0</td>\n",
       "      <td>1</td>\n",
       "      <td>0</td>\n",
       "      <td>0</td>\n",
       "    </tr>\n",
       "    <tr>\n",
       "      <th>12</th>\n",
       "      <td>1</td>\n",
       "      <td>0</td>\n",
       "      <td>8</td>\n",
       "      <td>True</td>\n",
       "      <td>0</td>\n",
       "      <td>0</td>\n",
       "      <td>0</td>\n",
       "      <td>0</td>\n",
       "      <td>0</td>\n",
       "      <td>0</td>\n",
       "      <td>...</td>\n",
       "      <td>0</td>\n",
       "      <td>0</td>\n",
       "      <td>0</td>\n",
       "      <td>0</td>\n",
       "      <td>0</td>\n",
       "      <td>1</td>\n",
       "      <td>0</td>\n",
       "      <td>1</td>\n",
       "      <td>0</td>\n",
       "      <td>0</td>\n",
       "    </tr>\n",
       "    <tr>\n",
       "      <th>19</th>\n",
       "      <td>0</td>\n",
       "      <td>0</td>\n",
       "      <td>6</td>\n",
       "      <td>True</td>\n",
       "      <td>0</td>\n",
       "      <td>0</td>\n",
       "      <td>0</td>\n",
       "      <td>0</td>\n",
       "      <td>0</td>\n",
       "      <td>0</td>\n",
       "      <td>...</td>\n",
       "      <td>0</td>\n",
       "      <td>0</td>\n",
       "      <td>0</td>\n",
       "      <td>0</td>\n",
       "      <td>0</td>\n",
       "      <td>1</td>\n",
       "      <td>0</td>\n",
       "      <td>1</td>\n",
       "      <td>0</td>\n",
       "      <td>0</td>\n",
       "    </tr>\n",
       "    <tr>\n",
       "      <th>23</th>\n",
       "      <td>0</td>\n",
       "      <td>0</td>\n",
       "      <td>3</td>\n",
       "      <td>True</td>\n",
       "      <td>0</td>\n",
       "      <td>0</td>\n",
       "      <td>0</td>\n",
       "      <td>0</td>\n",
       "      <td>0</td>\n",
       "      <td>0</td>\n",
       "      <td>...</td>\n",
       "      <td>0</td>\n",
       "      <td>0</td>\n",
       "      <td>0</td>\n",
       "      <td>0</td>\n",
       "      <td>0</td>\n",
       "      <td>1</td>\n",
       "      <td>0</td>\n",
       "      <td>1</td>\n",
       "      <td>0</td>\n",
       "      <td>0</td>\n",
       "    </tr>\n",
       "    <tr>\n",
       "      <th>31</th>\n",
       "      <td>1</td>\n",
       "      <td>0</td>\n",
       "      <td>7</td>\n",
       "      <td>False</td>\n",
       "      <td>0</td>\n",
       "      <td>0</td>\n",
       "      <td>0</td>\n",
       "      <td>0</td>\n",
       "      <td>0</td>\n",
       "      <td>0</td>\n",
       "      <td>...</td>\n",
       "      <td>0</td>\n",
       "      <td>0</td>\n",
       "      <td>0</td>\n",
       "      <td>0</td>\n",
       "      <td>1</td>\n",
       "      <td>0</td>\n",
       "      <td>0</td>\n",
       "      <td>1</td>\n",
       "      <td>0</td>\n",
       "      <td>0</td>\n",
       "    </tr>\n",
       "  </tbody>\n",
       "</table>\n",
       "<p>5 rows × 934 columns</p>\n",
       "</div>"
      ],
      "text/plain": [
       "    reassignment_count  reopen_count  sys_mod_count  made_sla  location_?  \\\n",
       "3                    0             0              4      True           0   \n",
       "12                   1             0              8      True           0   \n",
       "19                   0             0              6      True           0   \n",
       "23                   0             0              3      True           0   \n",
       "31                   1             0              7     False           0   \n",
       "\n",
       "    location_Location 10  location_Location 100  location_Location 101  \\\n",
       "3                      0                      0                      0   \n",
       "12                     0                      0                      0   \n",
       "19                     0                      0                      0   \n",
       "23                     0                      0                      0   \n",
       "31                     0                      0                      0   \n",
       "\n",
       "    location_Location 102  location_Location 105  ...  u_symptom_Symptom 96  \\\n",
       "3                       0                      0  ...                     0   \n",
       "12                      0                      0  ...                     0   \n",
       "19                      0                      0  ...                     0   \n",
       "23                      0                      0  ...                     0   \n",
       "31                      0                      0  ...                     0   \n",
       "\n",
       "    u_symptom_Symptom 97  u_symptom_Symptom 99  priority_1 - Critical  \\\n",
       "3                      0                     0                      0   \n",
       "12                     0                     0                      0   \n",
       "19                     0                     0                      0   \n",
       "23                     0                     0                      0   \n",
       "31                     0                     0                      0   \n",
       "\n",
       "    priority_2 - High  priority_3 - Moderate  priority_4 - Low  vendor_?  \\\n",
       "3                   0                      1                 0         1   \n",
       "12                  0                      1                 0         1   \n",
       "19                  0                      1                 0         1   \n",
       "23                  0                      1                 0         1   \n",
       "31                  1                      0                 0         1   \n",
       "\n",
       "    vendor_Vendor 1  vendor_code 8s  \n",
       "3                 0               0  \n",
       "12                0               0  \n",
       "19                0               0  \n",
       "23                0               0  \n",
       "31                0               0  \n",
       "\n",
       "[5 rows x 934 columns]"
      ]
     },
     "execution_count": 99,
     "metadata": {},
     "output_type": "execute_result"
    }
   ],
   "source": [
    "df_closed_dummy = pd.get_dummies(df_closed_1)\n",
    "df_closed_dummy.head()\n",
    "\n",
    "df_closed_dummy['closed_code']= df_closed['closed_code']\n",
    "\n",
    "Y = df_closed_dummy['closed_code']\n",
    "X = df_closed_dummy.drop(columns=['closed_code'])\n",
    "\n",
    "X.head()\n"
   ]
  },
  {
   "cell_type": "code",
   "execution_count": 100,
   "metadata": {},
   "outputs": [
    {
     "data": {
      "text/plain": [
       "RandomForestClassifier(n_estimators=200, random_state=100)"
      ]
     },
     "execution_count": 100,
     "metadata": {},
     "output_type": "execute_result"
    }
   ],
   "source": [
    "from sklearn.ensemble import RandomForestClassifier\n",
    "model = RandomForestClassifier(n_estimators=200\n",
    "                               ,random_state=100)\n",
    "\n",
    "model.fit(X,Y)"
   ]
  },
  {
   "cell_type": "code",
   "execution_count": 171,
   "metadata": {},
   "outputs": [
    {
     "data": {
      "text/plain": [
       "<matplotlib.axes._subplots.AxesSubplot at 0x7fe607278d60>"
      ]
     },
     "execution_count": 171,
     "metadata": {},
     "output_type": "execute_result"
    },
    {
     "data": {
      "image/png": "[encoded data removed]",
      "text/plain": [
       "<Figure size 432x288 with 1 Axes>"
      ]
     },
     "metadata": {
      "needs_background": "light"
     },
     "output_type": "display_data"
    }
   ],
   "source": [
    "feat_importances = pd.Series(model.feature_importances_, index=X.columns)\n",
    "feat_importances.nlargest(20).plot(kind='barh', color= cm.rainbow(np.linspace(0, 2)) )"
   ]
  },
  {
   "cell_type": "code",
   "execution_count": 76,
   "metadata": {
    "colab": {},
    "colab_type": "code",
    "id": "3yK9DacchWAS"
   },
   "outputs": [
    {
     "name": "stdout",
     "output_type": "stream",
     "text": [
      "       number incident_state  active  reassignment_count  reopen_count  \\\n",
      "0  INC0000045            New    True                   0             0   \n",
      "1  INC0000045       Resolved    True                   0             0   \n",
      "2  INC0000045       Resolved    True                   0             0   \n",
      "3  INC0000045         Closed   False                   0             0   \n",
      "4  INC0000047            New    True                   0             0   \n",
      "5  INC0000047         Active    True                   1             0   \n",
      "\n",
      "   sys_mod_count  made_sla    caller_id       opened_by  sys_created_by  ...  \\\n",
      "0              0      True  Caller 2403    Opened by  8    Created by 6  ...   \n",
      "1              2      True  Caller 2403    Opened by  8    Created by 6  ...   \n",
      "2              3      True  Caller 2403    Opened by  8    Created by 6  ...   \n",
      "3              4      True  Caller 2403    Opened by  8    Created by 6  ...   \n",
      "4              0      True  Caller 2403  Opened by  397  Created by 171  ...   \n",
      "5              1      True  Caller 2403  Opened by  397  Created by 171  ...   \n",
      "\n",
      "  problem_id rfc vendor caused_by closed_code      resolved_by closed_time  \\\n",
      "0          ?   ?      ?         ?      code 5  Resolved by 149      1546.7   \n",
      "1          ?   ?      ?         ?      code 5  Resolved by 149      1546.7   \n",
      "2          ?   ?      ?         ?      code 5  Resolved by 149      1546.7   \n",
      "3          ?   ?      ?         ?      code 5  Resolved by 149      1546.7   \n",
      "4          ?   ?      ?         ?      code 5   Resolved by 81      2285.3   \n",
      "5          ?   ?      ?         ?      code 5   Resolved by 81      2285.3   \n",
      "\n",
      "  created_time updated_time resolved_time  \n",
      "0          0.1          0.1          10.2  \n",
      "1          0.1          7.6          10.2  \n",
      "2          0.1         10.2          10.2  \n",
      "3          0.1       1546.7          10.2  \n",
      "4          0.3          0.3           0.0  \n",
      "5          0.3          0.8           0.0  \n",
      "\n",
      "[6 rows x 35 columns]\n",
      "data shape:  (88628, 35)\n"
     ]
    }
   ],
   "source": [
    "data = data[(data[['sys_created_at','resolved_at']] != '?').all(axis=1)]\n",
    "\n",
    "data['closed_at'] = pd.to_datetime(data['closed_at'])\n",
    "data['opened_at'] = pd.to_datetime(data['opened_at'])\n",
    "data['sys_created_at'] = pd.to_datetime(data['sys_created_at'])\n",
    "data['sys_updated_at'] = pd.to_datetime(data['sys_updated_at'])\n",
    "data['resolved_at'] = pd.to_datetime(data['resolved_at'])\n",
    "  \n",
    "data['delta'] = data.closed_at - data.opened_at\n",
    "data['closed_time'] = data['delta'].dt.total_seconds()/3600\n",
    "data['closed_time'] = data['closed_time'].round(1)\n",
    "\n",
    "data['delta'] = data.sys_created_at - data.opened_at\n",
    "data['created_time'] = data['delta'].dt.total_seconds()/3600\n",
    "data['created_time'] = data['created_time'].round(1)\n",
    "\n",
    "data['delta'] = data.sys_updated_at - data.opened_at\n",
    "data['updated_time'] = data['delta'].dt.total_seconds()/3600\n",
    "data['updated_time'] = data['updated_time'].round(1)\n",
    "\n",
    "data['delta'] = data.resolved_at - data.opened_at\n",
    "data['resolved_time'] = data['delta'].dt.total_seconds()/3600\n",
    "data['resolved_time'] = data['resolved_time'].round(1)\n",
    "data['resolved_time'] = np.where(data['resolved_time'] > 0, data['resolved_time'], 0)\n",
    "\n",
    "\n",
    "data = data.drop(['delta','sys_created_at','resolved_at', 'sys_updated_at','closed_at','opened_at'], axis=1)\n",
    "\n",
    "print(data.head(6))\n",
    " \n",
    "print('data shape: ', data.shape)\n"
   ]
  },
  {
   "cell_type": "code",
   "execution_count": 72,
   "metadata": {},
   "outputs": [
    {
     "name": "stdout",
     "output_type": "stream",
     "text": [
      "data shape:  (88628, 34)\n",
      "test shape: (88628,)\n"
     ]
    }
   ],
   "source": [
    "X = data.iloc[:,:-1].to_numpy()\n",
    "Y = data.iloc[:,-1].to_numpy()\n",
    "\n",
    "test_data, test_labels = X[80000:], Y[80000:]\n",
    "train_data, train_labels = X[:80000], Y[:80000]\n",
    "\n",
    "print('data shape: ', X.shape)\n",
    "print('test shape:', Y.shape)\n",
    "\n"
   ]
  },
  {
   "cell_type": "markdown",
   "metadata": {
    "colab_type": "text",
    "id": "EMQAHr7QhWAX"
   },
   "source": [
    "### Part 2:\n",
    "\n",
    "Produce k-Nearest Neighbors models with k $\\in$ [1,3,5,7,9].  Evaluate and show the accuracy of each model. For the 1-Nearest Neighbor model, additionally show the precision, recall, and F1 for each label. Which digit is the most difficult for the 1-Nearest Neighbor model to recognize?\n",
    "\n",
    "Notes:\n",
    "* Train on the mini train set.\n",
    "* Evaluate performance on the dev set.\n",
    "* You can use `KNeighborsClassifier` to produce a k-nearest neighbor model.\n",
    "* You can use `classification_report` to get precision, recall, and F1 results."
   ]
  },
  {
   "cell_type": "code",
   "execution_count": null,
   "metadata": {},
   "outputs": [],
   "source": []
  }
 ],
 "metadata": {
  "colab": {
   "name": "firstname_lastname_p1.ipynb",
   "private_outputs": true,
   "provenance": [
    {
     "file_id": "https://github.com/MIDS-W207/Master/blob/master/Projects/firstname_lastname_p1.ipynb",
     "timestamp": 1557957807607
    }
   ],
   "version": "0.3.2"
  },
  "kernelspec": {
   "display_name": "Python 3",
   "language": "python",
   "name": "python3"
  },
  "language_info": {
   "codemirror_mode": {
    "name": "ipython",
    "version": 3
   },
   "file_extension": ".py",
   "mimetype": "text/x-python",
   "name": "python",
   "nbconvert_exporter": "python",
   "pygments_lexer": "ipython3",
   "version": "3.8.5"
  },
  "toc": {
   "base_numbering": 1,
   "nav_menu": {},
   "number_sections": false,
   "sideBar": true,
   "skip_h1_title": true,
   "title_cell": "Table of Contents",
   "title_sidebar": "Contents",
   "toc_cell": false,
   "toc_position": {},
   "toc_section_display": true,
   "toc_window_display": false
  }
 },
 "nbformat": 4,
 "nbformat_minor": 1
}
