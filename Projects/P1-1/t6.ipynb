{
 "cells": [
  {
   "cell_type": "markdown",
   "metadata": {
    "colab_type": "text",
    "id": "z6UHmLYVhWAN"
   },
   "source": [
    "# Project 1: Digit Classification with KNN and Naive Bayes"
   ]
  },
  {
   "cell_type": "markdown",
   "metadata": {
    "colab_type": "text",
    "id": "03M_JSg3hWAO"
   },
   "source": [
    "In this project, you'll implement your own image recognition system for classifying digits. Read through the code and the instructions carefully and add your own code where indicated. Each problem can be addressed succinctly with the included packages -- please don't add any more. Grading will be based on writing clean, commented code, along with a few short answers.\n",
    "\n",
    "As always, you're welcome to work on the project in groups and discuss ideas on the course wall, but <b> please prepare your own write-up (with your own code). </b>\n",
    "\n",
    "If you're interested, check out these links related to digit recognition:\n",
    "\n",
    "* Yann Lecun's MNIST benchmarks: http://yann.lecun.com/exdb/mnist/\n",
    "* Stanford Streetview research and data: http://ufldl.stanford.edu/housenumbers/\n",
    "\n",
    "Finally, if you'd like to get started with Tensorflow, you can read through this tutorial: https://www.tensorflow.org/tutorials/keras/basic_classification. It uses a dataset called \"fashion_mnist\", which is identical in structure to the original digit mnist, but uses images of clothing rather than images of digits. The number of training examples and number of labels is the same. In fact, you can simply replace the code that loads \"fashion_mnist\" with \"mnist\" and everything should work fine."
   ]
  },
  {
   "cell_type": "code",
   "execution_count": 1,
   "metadata": {
    "colab": {},
    "colab_type": "code",
    "id": "iJ9ayCvyhWAP"
   },
   "outputs": [],
   "source": [
    "# This tells matplotlib not to try opening a new window for each plot.\n",
    "%matplotlib inline\n",
    "\n",
    "# Import a bunch of libraries.\n",
    "import time\n",
    "import numpy as np\n",
    "import matplotlib.pyplot as plt\n",
    "from matplotlib.ticker import MultipleLocator\n",
    "from sklearn.pipeline import Pipeline\n",
    "from sklearn.datasets import fetch_openml\n",
    "from sklearn.neighbors import KNeighborsClassifier\n",
    "from sklearn.metrics import confusion_matrix\n",
    "from sklearn.linear_model import LinearRegression\n",
    "from sklearn.naive_bayes import BernoulliNB\n",
    "from sklearn.naive_bayes import MultinomialNB\n",
    "from sklearn.naive_bayes import GaussianNB\n",
    "from sklearn.model_selection import GridSearchCV\n",
    "from sklearn.metrics import classification_report\n",
    "from sklearn.metrics import mean_squared_error, r2_score\n",
    "\n",
    "# Set the randomizer seed so results are the same each time.\n",
    "np.random.seed(0)"
   ]
  },
  {
   "cell_type": "code",
   "execution_count": 2,
   "metadata": {},
   "outputs": [
    {
     "data": {
      "text/plain": [
       "'0.23.2'"
      ]
     },
     "execution_count": 2,
     "metadata": {},
     "output_type": "execute_result"
    }
   ],
   "source": [
    "import sklearn\n",
    "sklearn.__version__"
   ]
  },
  {
   "cell_type": "markdown",
   "metadata": {
    "colab_type": "text",
    "id": "sO1t0ypThWAR"
   },
   "source": [
    "Load the data. Notice that the data gets partitioned into training, development, and test sets. Also, a small subset of the training data called mini_train_data and mini_train_labels gets defined, which you should use in all the experiments below, unless otherwise noted."
   ]
  },
  {
   "cell_type": "code",
   "execution_count": 8,
   "metadata": {
    "colab": {},
    "colab_type": "code",
    "id": "3yK9DacchWAS"
   },
   "outputs": [
    {
     "ename": "ValueError",
     "evalue": "No active dataset mnist_784 found.",
     "output_type": "error",
     "traceback": [
      "\u001b[0;31m---------------------------------------------------------------------------\u001b[0m",
      "\u001b[0;31mValueError\u001b[0m                                Traceback (most recent call last)",
      "\u001b[0;32m<ipython-input-8-9a70cf7b1f33>\u001b[0m in \u001b[0;36m<module>\u001b[0;34m\u001b[0m\n\u001b[1;32m      1\u001b[0m \u001b[0;31m# Load the digit data from https://www.openml.org/d/554 or from default local location '~/scikit_learn_data/...'\u001b[0m\u001b[0;34m\u001b[0m\u001b[0;34m\u001b[0m\u001b[0;34m\u001b[0m\u001b[0m\n\u001b[0;32m----> 2\u001b[0;31m \u001b[0mX\u001b[0m\u001b[0;34m,\u001b[0m \u001b[0mY\u001b[0m \u001b[0;34m=\u001b[0m \u001b[0mfetch_openml\u001b[0m\u001b[0;34m(\u001b[0m\u001b[0mname\u001b[0m\u001b[0;34m=\u001b[0m\u001b[0;34m'mnist_784'\u001b[0m\u001b[0;34m,\u001b[0m \u001b[0mreturn_X_y\u001b[0m\u001b[0;34m=\u001b[0m\u001b[0;32mTrue\u001b[0m\u001b[0;34m,\u001b[0m \u001b[0mcache\u001b[0m\u001b[0;34m=\u001b[0m\u001b[0;32mFalse\u001b[0m\u001b[0;34m)\u001b[0m\u001b[0;34m\u001b[0m\u001b[0;34m\u001b[0m\u001b[0m\n\u001b[0m\u001b[1;32m      3\u001b[0m \u001b[0;34m\u001b[0m\u001b[0m\n\u001b[1;32m      4\u001b[0m \u001b[0;34m\u001b[0m\u001b[0m\n\u001b[1;32m      5\u001b[0m \u001b[0;31m# Rescale grayscale values to [0,1].\u001b[0m\u001b[0;34m\u001b[0m\u001b[0;34m\u001b[0m\u001b[0;34m\u001b[0m\u001b[0m\n",
      "\u001b[0;32m~/anaconda3/lib/python3.8/site-packages/sklearn/utils/validation.py\u001b[0m in \u001b[0;36minner_f\u001b[0;34m(*args, **kwargs)\u001b[0m\n\u001b[1;32m     70\u001b[0m                           FutureWarning)\n\u001b[1;32m     71\u001b[0m         \u001b[0mkwargs\u001b[0m\u001b[0;34m.\u001b[0m\u001b[0mupdate\u001b[0m\u001b[0;34m(\u001b[0m\u001b[0;34m{\u001b[0m\u001b[0mk\u001b[0m\u001b[0;34m:\u001b[0m \u001b[0marg\u001b[0m \u001b[0;32mfor\u001b[0m \u001b[0mk\u001b[0m\u001b[0;34m,\u001b[0m \u001b[0marg\u001b[0m \u001b[0;32min\u001b[0m \u001b[0mzip\u001b[0m\u001b[0;34m(\u001b[0m\u001b[0msig\u001b[0m\u001b[0;34m.\u001b[0m\u001b[0mparameters\u001b[0m\u001b[0;34m,\u001b[0m \u001b[0margs\u001b[0m\u001b[0;34m)\u001b[0m\u001b[0;34m}\u001b[0m\u001b[0;34m)\u001b[0m\u001b[0;34m\u001b[0m\u001b[0;34m\u001b[0m\u001b[0m\n\u001b[0;32m---> 72\u001b[0;31m         \u001b[0;32mreturn\u001b[0m \u001b[0mf\u001b[0m\u001b[0;34m(\u001b[0m\u001b[0;34m**\u001b[0m\u001b[0mkwargs\u001b[0m\u001b[0;34m)\u001b[0m\u001b[0;34m\u001b[0m\u001b[0;34m\u001b[0m\u001b[0m\n\u001b[0m\u001b[1;32m     73\u001b[0m     \u001b[0;32mreturn\u001b[0m \u001b[0minner_f\u001b[0m\u001b[0;34m\u001b[0m\u001b[0;34m\u001b[0m\u001b[0m\n\u001b[1;32m     74\u001b[0m \u001b[0;34m\u001b[0m\u001b[0m\n",
      "\u001b[0;32m~/anaconda3/lib/python3.8/site-packages/sklearn/datasets/_openml.py\u001b[0m in \u001b[0;36mfetch_openml\u001b[0;34m(name, version, data_id, data_home, target_column, cache, return_X_y, as_frame)\u001b[0m\n\u001b[1;32m    736\u001b[0m                 \u001b[0;34m\"specify a numeric data_id or a name, not \"\u001b[0m\u001b[0;34m\u001b[0m\u001b[0;34m\u001b[0m\u001b[0m\n\u001b[1;32m    737\u001b[0m                 \"both.\".format(data_id, name))\n\u001b[0;32m--> 738\u001b[0;31m         \u001b[0mdata_info\u001b[0m \u001b[0;34m=\u001b[0m \u001b[0m_get_data_info_by_name\u001b[0m\u001b[0;34m(\u001b[0m\u001b[0mname\u001b[0m\u001b[0;34m,\u001b[0m \u001b[0mversion\u001b[0m\u001b[0;34m,\u001b[0m \u001b[0mdata_home\u001b[0m\u001b[0;34m)\u001b[0m\u001b[0;34m\u001b[0m\u001b[0;34m\u001b[0m\u001b[0m\n\u001b[0m\u001b[1;32m    739\u001b[0m         \u001b[0mdata_id\u001b[0m \u001b[0;34m=\u001b[0m \u001b[0mdata_info\u001b[0m\u001b[0;34m[\u001b[0m\u001b[0;34m'did'\u001b[0m\u001b[0;34m]\u001b[0m\u001b[0;34m\u001b[0m\u001b[0;34m\u001b[0m\u001b[0m\n\u001b[1;32m    740\u001b[0m     \u001b[0;32melif\u001b[0m \u001b[0mdata_id\u001b[0m \u001b[0;32mis\u001b[0m \u001b[0;32mnot\u001b[0m \u001b[0;32mNone\u001b[0m\u001b[0;34m:\u001b[0m\u001b[0;34m\u001b[0m\u001b[0;34m\u001b[0m\u001b[0m\n",
      "\u001b[0;32m~/anaconda3/lib/python3.8/site-packages/sklearn/datasets/_openml.py\u001b[0m in \u001b[0;36m_get_data_info_by_name\u001b[0;34m(name, version, data_home)\u001b[0m\n\u001b[1;32m    367\u001b[0m         \u001b[0murl\u001b[0m \u001b[0;34m=\u001b[0m \u001b[0m_SEARCH_NAME\u001b[0m\u001b[0;34m.\u001b[0m\u001b[0mformat\u001b[0m\u001b[0;34m(\u001b[0m\u001b[0mname\u001b[0m\u001b[0;34m)\u001b[0m \u001b[0;34m+\u001b[0m \u001b[0;34m\"/status/active/\"\u001b[0m\u001b[0;34m\u001b[0m\u001b[0;34m\u001b[0m\u001b[0m\n\u001b[1;32m    368\u001b[0m         \u001b[0merror_msg\u001b[0m \u001b[0;34m=\u001b[0m \u001b[0;34m\"No active dataset {} found.\"\u001b[0m\u001b[0;34m.\u001b[0m\u001b[0mformat\u001b[0m\u001b[0;34m(\u001b[0m\u001b[0mname\u001b[0m\u001b[0;34m)\u001b[0m\u001b[0;34m\u001b[0m\u001b[0;34m\u001b[0m\u001b[0m\n\u001b[0;32m--> 369\u001b[0;31m         json_data = _get_json_content_from_openml_api(url, error_msg, True,\n\u001b[0m\u001b[1;32m    370\u001b[0m                                                       data_home)\n\u001b[1;32m    371\u001b[0m         \u001b[0mres\u001b[0m \u001b[0;34m=\u001b[0m \u001b[0mjson_data\u001b[0m\u001b[0;34m[\u001b[0m\u001b[0;34m'data'\u001b[0m\u001b[0;34m]\u001b[0m\u001b[0;34m[\u001b[0m\u001b[0;34m'dataset'\u001b[0m\u001b[0;34m]\u001b[0m\u001b[0;34m\u001b[0m\u001b[0;34m\u001b[0m\u001b[0m\n",
      "\u001b[0;32m~/anaconda3/lib/python3.8/site-packages/sklearn/datasets/_openml.py\u001b[0m in \u001b[0;36m_get_json_content_from_openml_api\u001b[0;34m(url, error_message, raise_if_error, data_home)\u001b[0m\n\u001b[1;32m    168\u001b[0m     \u001b[0;31m# 412 error, not in except for nicer traceback\u001b[0m\u001b[0;34m\u001b[0m\u001b[0;34m\u001b[0m\u001b[0;34m\u001b[0m\u001b[0m\n\u001b[1;32m    169\u001b[0m     \u001b[0;32mif\u001b[0m \u001b[0mraise_if_error\u001b[0m\u001b[0;34m:\u001b[0m\u001b[0;34m\u001b[0m\u001b[0;34m\u001b[0m\u001b[0m\n\u001b[0;32m--> 170\u001b[0;31m         \u001b[0;32mraise\u001b[0m \u001b[0mValueError\u001b[0m\u001b[0;34m(\u001b[0m\u001b[0merror_message\u001b[0m\u001b[0;34m)\u001b[0m\u001b[0;34m\u001b[0m\u001b[0;34m\u001b[0m\u001b[0m\n\u001b[0m\u001b[1;32m    171\u001b[0m     \u001b[0;32mreturn\u001b[0m \u001b[0;32mNone\u001b[0m\u001b[0;34m\u001b[0m\u001b[0;34m\u001b[0m\u001b[0m\n\u001b[1;32m    172\u001b[0m \u001b[0;34m\u001b[0m\u001b[0m\n",
      "\u001b[0;31mValueError\u001b[0m: No active dataset mnist_784 found."
     ]
    }
   ],
   "source": [
    "# Load the digit data from https://www.openml.org/d/554 or from default local location '~/scikit_learn_data/...'\n",
    "X, Y = fetch_openml(name='mnist_784', return_X_y=True, cache=False)\n",
    "\n",
    "\n",
    "# Rescale grayscale values to [0,1].\n",
    "X = X / 255.0\n",
    "\n",
    "# Shuffle the input: create a random permutation of the integers between 0 and the number of data points and apply this\n",
    "# permutation to X and Y.\n",
    "# NOTE: Each time you run this cell, you'll re-shuffle the data, resulting in a different ordering.\n",
    "shuffle = np.random.permutation(np.arange(X.shape[0]))\n",
    "X, Y = X[shuffle], Y[shuffle]\n",
    "\n",
    "print('data shape: ', X.shape)\n",
    "print('label shape:', Y.shape)\n",
    "\n",
    "# Set some variables to hold test, dev, and training data.\n",
    "test_data, test_labels = X[61000:], Y[61000:]\n",
    "dev_data, dev_labels = X[60000:61000], Y[60000:61000]\n",
    "train_data, train_labels = X[:60000], Y[:60000]\n",
    "mini_train_data, mini_train_labels = X[:1000], Y[:1000]\n",
    "\n"
   ]
  },
  {
   "cell_type": "markdown",
   "metadata": {
    "colab_type": "text",
    "id": "atc2JpWKhWAV"
   },
   "source": [
    "### Part 1:\n",
    "\n",
    "Show a 10x10 grid that visualizes 10 examples of each digit.\n",
    "\n",
    "Notes:\n",
    "* You can use `plt.rc()` for setting the colormap, for example to black and white.\n",
    "* You can use `plt.subplot()` for creating subplots.\n",
    "* You can use `plt.imshow()` for rendering a matrix.\n",
    "* You can use `np.array.reshape()` for reshaping a 1D feature vector into a 2D matrix (for rendering)."
   ]
  },
  {
   "cell_type": "code",
   "execution_count": 7,
   "metadata": {
    "colab": {},
    "colab_type": "code",
    "id": "436UeH7JhWAW"
   },
   "outputs": [
    {
     "ename": "NameError",
     "evalue": "name 'Y' is not defined",
     "output_type": "error",
     "traceback": [
      "\u001b[0;31m---------------------------------------------------------------------------\u001b[0m",
      "\u001b[0;31mNameError\u001b[0m                                 Traceback (most recent call last)",
      "\u001b[0;32m<ipython-input-7-a193a0236070>\u001b[0m in \u001b[0;36m<module>\u001b[0;34m\u001b[0m\n\u001b[1;32m     23\u001b[0m \u001b[0;31m### STUDENT END ###\u001b[0m\u001b[0;34m\u001b[0m\u001b[0;34m\u001b[0m\u001b[0;34m\u001b[0m\u001b[0m\n\u001b[1;32m     24\u001b[0m \u001b[0;34m\u001b[0m\u001b[0m\n\u001b[0;32m---> 25\u001b[0;31m \u001b[0mP1\u001b[0m\u001b[0;34m(\u001b[0m\u001b[0;36m10\u001b[0m\u001b[0;34m)\u001b[0m\u001b[0;34m\u001b[0m\u001b[0;34m\u001b[0m\u001b[0m\n\u001b[0m",
      "\u001b[0;32m<ipython-input-7-a193a0236070>\u001b[0m in \u001b[0;36mP1\u001b[0;34m(num_examples)\u001b[0m\n\u001b[1;32m      5\u001b[0m     \u001b[0;31m# Setup image properties:\u001b[0m\u001b[0;34m\u001b[0m\u001b[0;34m\u001b[0m\u001b[0;34m\u001b[0m\u001b[0m\n\u001b[1;32m      6\u001b[0m     \u001b[0mplt\u001b[0m\u001b[0;34m.\u001b[0m\u001b[0mrc\u001b[0m\u001b[0;34m(\u001b[0m\u001b[0;34m'image'\u001b[0m\u001b[0;34m,\u001b[0m \u001b[0mcmap\u001b[0m\u001b[0;34m=\u001b[0m\u001b[0;34m'Greys'\u001b[0m\u001b[0;34m)\u001b[0m\u001b[0;34m\u001b[0m\u001b[0;34m\u001b[0m\u001b[0m\n\u001b[0;32m----> 7\u001b[0;31m     \u001b[0mplt\u001b[0m\u001b[0;34m.\u001b[0m\u001b[0mfigure\u001b[0m\u001b[0;34m(\u001b[0m\u001b[0mfigsize\u001b[0m\u001b[0;34m=\u001b[0m\u001b[0;34m(\u001b[0m\u001b[0mnum_examples\u001b[0m\u001b[0;34m,\u001b[0m\u001b[0mlen\u001b[0m\u001b[0;34m(\u001b[0m\u001b[0mnp\u001b[0m\u001b[0;34m.\u001b[0m\u001b[0munique\u001b[0m\u001b[0;34m(\u001b[0m\u001b[0mY\u001b[0m\u001b[0;34m)\u001b[0m\u001b[0;34m)\u001b[0m\u001b[0;34m)\u001b[0m\u001b[0;34m,\u001b[0m \u001b[0mdpi\u001b[0m\u001b[0;34m=\u001b[0m\u001b[0mX\u001b[0m\u001b[0;34m.\u001b[0m\u001b[0mshape\u001b[0m\u001b[0;34m[\u001b[0m\u001b[0;36m1\u001b[0m\u001b[0;34m]\u001b[0m\u001b[0;34m)\u001b[0m\u001b[0;34m\u001b[0m\u001b[0;34m\u001b[0m\u001b[0m\n\u001b[0m\u001b[1;32m      8\u001b[0m \u001b[0;34m\u001b[0m\u001b[0m\n\u001b[1;32m      9\u001b[0m     \u001b[0;31m# Setup digits 0~9:\u001b[0m\u001b[0;34m\u001b[0m\u001b[0;34m\u001b[0m\u001b[0;34m\u001b[0m\u001b[0m\n",
      "\u001b[0;31mNameError\u001b[0m: name 'Y' is not defined"
     ]
    }
   ],
   "source": [
    "def P1(num_examples=10):\n",
    "\n",
    "### STUDENT START ###\n",
    "    \n",
    "    # Setup image properties:\n",
    "    plt.rc('image', cmap='Greys')\n",
    "    plt.figure(figsize=(num_examples,len(np.unique(Y))), dpi=X.shape[1])\n",
    "\n",
    "    # Setup digits 0~9:      \n",
    "    digits = np.unique(Y)\n",
    "    number = 10\n",
    "    dim = int(np.sqrt(X.shape[1]))\n",
    "\n",
    "    fig, axs = plt.subplots(len(digits), M, figsize=(20,20))\n",
    "    \n",
    "    # Show digits 0~9:   \n",
    "    for i,d in enumerate(digits):\n",
    "        for j in range(number):\n",
    "            axs[i,j].imshow(X[Y==d][j].reshape((dim,dim)))\n",
    "            axs[i,j].axis('off')            \n",
    "\n",
    "            \n",
    "### STUDENT END ###\n",
    "\n",
    "P1(10)\n"
   ]
  },
  {
   "cell_type": "markdown",
   "metadata": {
    "colab_type": "text",
    "id": "EMQAHr7QhWAX"
   },
   "source": [
    "### Part 2:\n",
    "\n",
    "Produce k-Nearest Neighbors models with k $\\in$ [1,3,5,7,9].  Evaluate and show the accuracy of each model. For the 1-Nearest Neighbor model, additionally show the precision, recall, and F1 for each label. Which digit is the most difficult for the 1-Nearest Neighbor model to recognize?\n",
    "\n",
    "Notes:\n",
    "* Train on the mini train set.\n",
    "* Evaluate performance on the dev set.\n",
    "* You can use `KNeighborsClassifier` to produce a k-nearest neighbor model.\n",
    "* You can use `classification_report` to get precision, recall, and F1 results."
   ]
  },
  {
   "cell_type": "code",
   "execution_count": 18,
   "metadata": {
    "colab": {},
    "colab_type": "code",
    "id": "-it5pn8-hWAY"
   },
   "outputs": [
    {
     "name": "stdout",
     "output_type": "stream",
     "text": [
      "k=1, accuracy=87.84%\n"
     ]
    }
   ],
   "source": [
    "#def P2(k_values):\n",
    "\n",
    "### STUDENT START ###\n",
    "\n",
    "def P2(kval):\n",
    "    for k in kval:\n",
    "        model = KNeighborsClassifier(n_neighbors=k)\n",
    "        model.fit(mini_train_data,mini_train_labels)\n",
    "\n",
    "        # evaluate the model and update the accuracies list\n",
    "        score = model.score(test_data, test_labels) \n",
    "        print(\"k=%d, accuracy=%.2f%%\" % (k, score * 100))\n",
    "\n",
    "    \n",
    "### STUDENT END ###\n",
    "\n",
    "k_values = [1]\n",
    "#, 3, 5, 7, 9]\n",
    "P2(k_values)"
   ]
  },
  {
   "cell_type": "markdown",
   "metadata": {
    "colab_type": "text",
    "id": "tZc9gzn5hWAZ"
   },
   "source": [
    "ANSWER:"
   ]
  },
  {
   "cell_type": "markdown",
   "metadata": {
    "colab_type": "text",
    "id": "7b6YEAzzhWAa"
   },
   "source": [
    "### Part 3:\n",
    "\n",
    "Produce 1-Nearest Neighbor models using training data of various sizes.  Evaluate and show the performance of each model.  Additionally, show the time needed to measure the performance of each model.\n",
    "\n",
    "Notes:\n",
    "* Train on subsets of the train set.  For each subset, take just the first part of the train set without re-ordering.\n",
    "* Evaluate on the dev set.\n",
    "* You can use `KNeighborsClassifier` to produce a k-nearest neighbor model.\n",
    "* You can use `time.time()` to measure elapsed time of operations."
   ]
  },
  {
   "cell_type": "code",
   "execution_count": null,
   "metadata": {
    "colab": {},
    "colab_type": "code",
    "id": "gEpNzDEjhWAa"
   },
   "outputs": [],
   "source": [
    "def P3(train_sizes, accuracies):\n",
    "\n",
    "### STUDENT START ###\n",
    "    elapsed_times = []\n",
    "    # Create a 1NN model\n",
    "    NN_model = KNeighborsClassifier(n_neighbors=1)\n",
    "    # For different training set sizes...\n",
    "    for size in train_sizes:\n",
    "        # Estimate computation time\n",
    "        start = time.time()\n",
    "        # Fit the model with the corresponding training set\n",
    "        train_data, train_labels = X[:size], Y[:size]\n",
    "        NN_model.fit(train_data, train_labels)\n",
    "        # Estimate the dev set accuracy\n",
    "        accuracies.append(NN_model.score(dev_data, dev_labels))\n",
    "        end = time.time()\n",
    "        elapsed_times.append(end - start)\n",
    "    print(''.join('Training size = {0:5d} => Accuracy = {1:.3f} => Elapsed time = {2:4.2f}\\n'.format(x,y,z) for x,y,z in \n",
    "                  zip(train_sizes, accuracies, elapsed_times)))\n",
    "    # Computation Time grows almost linearly with training set size\n",
    "    # Although the growth of growth is kind of logarithmic (or square root)\n",
    "\n",
    "### STUDENT END ###\n",
    "\n",
    "#train_sizes = [100, 200, 400, 800, 1600, 3200, 6400, 12800, 25600]\n",
    "train_sizes = [5000, 10000, 15000, 20000, 30000, 40000, 60000, 100000, 1000000]\n",
    "accuracies = []\n",
    "P3(train_sizes, accuracies)\n"
   ]
  },
  {
   "cell_type": "markdown",
   "metadata": {
    "colab_type": "text",
    "id": "B56lVsKNhWAc"
   },
   "source": [
    "### Part 4:\n",
    "\n",
    "Produce a linear regression model that predicts accuracy of a 1-Nearest Neighbor model given training set size. Show $R^2$ of the linear regression model.  Show the accuracies predicted for training set sizes 60000, 120000, and 1000000.  Show a lineplot of actual accuracies and predicted accuracies vs. training set size over the range of training set sizes in the training data.  What's wrong with using linear regression here?\n",
    "\n",
    "Apply a transformation to the predictor features and a transformation to the outcome that make the predictions more reasonable.  Show $R^2$ of the improved linear regression model.  Show the accuracies predicted for training set sizes 60000, 120000, and 1000000.  Show a lineplot of actual accuracies and predicted accuracies vs. training set size over the range of training set sizes in the training data - be sure to display accuracies and training set sizes in appropriate units.\n",
    "\n",
    "Notes:\n",
    "* Train the linear regression models on all of the (transformed) accuracies estimated in Problem 3.\n",
    "* Evaluate the linear regression models on all of the (transformed) accuracies estimated in Problem 3.\n",
    "* You can use `LinearRegression` to produce a linear regression model.\n",
    "* Remember that the sklearn `fit()` functions take an input matrix X and output vector Y. So, each input example in X is a vector, even if it contains only a single value.\n",
    "* Hint re: predictor feature transform: Accuracy increases with training set size logarithmically.\n",
    "* Hint re: outcome transform: When y is a number in range 0 to 1, then odds(y)=y/(1-y) is a number in range 0 to infinity."
   ]
  },
  {
   "cell_type": "code",
   "execution_count": null,
   "metadata": {
    "colab": {},
    "colab_type": "code",
    "id": "4xE_qIJghWAc"
   },
   "outputs": [],
   "source": [
    "train_sizes = [5000, 10000, 15000, 20000, 30000, 40000, 60000, 100000, 1000000]\n",
    "accuracies = [0.929, 0.942, 0.954, 0.956, 0.967, 0.971, 0.974, 1.0, 1.0]\n",
    "data = [ X[:60000], X[:120000] , X[:1000000] ]     \n",
    "labels =  [ Y[:60000], Y[:120000] , Y[:1000000] ] \n",
    "\n",
    "\n",
    "def P4():\n",
    "\n",
    "### STUDENT START ###  \n",
    "\n",
    "    # First we traspose the features (training set size) and labels (accuracy)\n",
    "    X = np.array(train_sizes)[:,np.newaxis]\n",
    "    y = np.array(accuracies)[:,np.newaxis]\n",
    "    model.fit(X, y)       \n",
    "    print('mean_squared_error: %.2f' % mean_squared_error(y, model.predict(X)))\n",
    "    print('R-squared: %.2f' % r2_score(y, model.predict(X)))\n",
    "\n",
    "    plt.figure(figsize=(12, 4))\n",
    "    ax = plt.subplot(1, 4, 1)\n",
    "    plt.setp(ax, xticks=())\n",
    "    x = np.linspace(X.min(), 1000000, 1000)[:,np.newaxis]\n",
    "    plt.plot(x, model.predict(x))\n",
    "    plt.scatter(X, y, color='red')\n",
    "    plt.xlabel(\"x\")\n",
    "    plt.ylabel(\"y\")\n",
    "    plt.title('Linear')\n",
    " \n",
    "    logX = np.log10(X)\n",
    "    model.fit(logX, y)\n",
    "    print('mean_squared_error of log transform: %.2f' % mean_squared_error(y, model.predict(logX)))\n",
    "    print('R-squared of log transform: %.2f' % r2_score(y, model.predict(logX)))\n",
    "    ax = plt.subplot(1, 4, 2)\n",
    "    plt.setp(ax, xticks=())\n",
    "    x = np.linspace(np.log10(X.min()), np.log10(1000000), 1000)[:,np.newaxis]\n",
    "    plt.plot(x, model.predict(x))\n",
    "    plt.scatter(np.log10(X), y, color='red')\n",
    "    plt.xlabel(\"x\")\n",
    "    plt.ylabel(\"y\")\n",
    "    plt.title('Log')\n",
    " \n",
    "    sqrtX = np.sqrt(X)\n",
    "    model.fit(sqrtX, y)\n",
    "    print('mean_squared_error of sqrt transform: %.2f' % mean_squared_error(y, model.predict(sqrtX)))\n",
    "    print('R-squared of sqrt transform: %.2f' % r2_score(y, model.predict(sqrtX))) \n",
    "    ax = plt.subplot(1, 4, 3)\n",
    "    plt.setp(ax, xticks=())\n",
    "    x = np.linspace(np.sqrt(X.min()), np.sqrt(1000000), 1000)[:,np.newaxis]\n",
    "    plt.plot(x, model.predict(x))\n",
    "    plt.scatter(np.sqrt(X), y, color='red')\n",
    "    plt.xlabel(\"x\")\n",
    "    plt.ylabel(\"y\")\n",
    "    plt.title('Square Root')\n",
    " \n",
    "    log_logX = np.log10(np.log10(X))\n",
    "    model.fit(log_logX, y)\n",
    "    print('mean_squared_error of log-log transform: %.2f' % mean_squared_error(y, model.predict(log_logX)))\n",
    "    print('R-squared of log-log transform: %.2f' % r2_score(y, model.predict(log_logX)))\n",
    "    ax = plt.subplot(1, 4, 4)\n",
    "    plt.setp(ax, xticks=())\n",
    "    x = np.linspace(np.log10(np.log10(X.min())), np.log10(np.log10(1000000)), 1000)[:,np.newaxis]\n",
    "    plt.plot(x, model.predict(x))\n",
    "    plt.scatter(np.log10(np.log10(X)), y, color='red')\n",
    "    plt.xlabel(\"x\")\n",
    "    plt.ylabel(\"y\")\n",
    "    plt.title('Log-Log')\n",
    "\n",
    "### STUDENT END ###\n",
    " \n",
    "P4()"
   ]
  },
  {
   "cell_type": "markdown",
   "metadata": {
    "colab_type": "text",
    "collapsed": true,
    "id": "HYYYL9cGhWAe"
   },
   "source": [
    "ANSWER:  The value predicted by the linear model for n=60000 is greater than 1, the maximum value for the accuracy, which doesn't make sense: a linear model does not fit well (besides, we're predicting out of the range of our examples (the *confidence ellipsoid* in multivariate regression). If we use the square root of the feature x, the model is slightly better, the logarithm of x is even better, and the log-log transformation is almost a perfect fit (though the predicted value for n=60000 is still above 1)."
   ]
  },
  {
   "cell_type": "markdown",
   "metadata": {
    "colab_type": "text",
    "id": "geAQJjGRhWAe"
   },
   "source": [
    "### Part 5:\n",
    "\n",
    "Produce a 1-Nearest Neighbor model and show the confusion matrix. Which pair of digits does the model confuse most often? Show the images of these most often confused digits.\n",
    "\n",
    "Notes:\n",
    "- Train on the mini train set.\n",
    "- Evaluate performance on the dev set.\n",
    "- You can use `confusion_matrix()` to produce a confusion matrix."
   ]
  },
  {
   "cell_type": "code",
   "execution_count": 25,
   "metadata": {
    "colab": {},
    "colab_type": "code",
    "id": "Bq36xaQohWAf",
    "scrolled": true
   },
   "outputs": [
    {
     "name": "stdout",
     "output_type": "stream",
     "text": [
      "(1000,)\n",
      "[[101   0   1   0   0   0   1   1   2   0]\n",
      " [  0 116   1   0   0   0   0   0   1   0]\n",
      " [  1   4  84   2   2   0   2   4   6   1]\n",
      " [  0   2   0  84   0   6   0   2   3   0]\n",
      " [  0   0   1   0  78   0   0   2   0  11]\n",
      " [  2   0   0   1   1  77   5   0   2   0]\n",
      " [  1   2   1   0   1   2  94   0   1   0]\n",
      " [  0   1   1   0   0   0   0  96   0   4]\n",
      " [  1   5   4   3   1   3   0   1  72   4]\n",
      " [  0   1   0   0   3   2   0   7   0  82]]\n",
      "\n",
      "===========================================================\n",
      "the model confuse most often:\n",
      "There are 11 cases in which the digit 4 is confused with the digit 9.\n",
      "the digits are as the follows:\n",
      "============================================================\n",
      "\n"
     ]
    },
    {
     "data": {
      "image/png": "[encoded data removed]",
      "text/plain": [
       "<Figure size 144x144 with 1 Axes>"
      ]
     },
     "metadata": {
      "needs_background": "light"
     },
     "output_type": "display_data"
    },
    {
     "data": {
      "image/png": "[encoded data removed]",
      "text/plain": [
       "<Figure size 144x144 with 1 Axes>"
      ]
     },
     "metadata": {
      "needs_background": "light"
     },
     "output_type": "display_data"
    },
    {
     "data": {
      "image/png": "[encoded data removed]",
      "text/plain": [
       "<Figure size 144x144 with 1 Axes>"
      ]
     },
     "metadata": {
      "needs_background": "light"
     },
     "output_type": "display_data"
    },
    {
     "data": {
      "image/png": "[encoded data removed]",
      "text/plain": [
       "<Figure size 144x144 with 1 Axes>"
      ]
     },
     "metadata": {
      "needs_background": "light"
     },
     "output_type": "display_data"
    },
    {
     "data": {
      "image/png": "[encoded data removed]",
      "text/plain": [
       "<Figure size 144x144 with 1 Axes>"
      ]
     },
     "metadata": {
      "needs_background": "light"
     },
     "output_type": "display_data"
    },
    {
     "data": {
      "image/png": "[encoded data removed]",
      "text/plain": [
       "<Figure size 144x144 with 1 Axes>"
      ]
     },
     "metadata": {
      "needs_background": "light"
     },
     "output_type": "display_data"
    },
    {
     "data": {
      "image/png": "[encoded data removed]",
      "text/plain": [
       "<Figure size 144x144 with 1 Axes>"
      ]
     },
     "metadata": {
      "needs_background": "light"
     },
     "output_type": "display_data"
    },
    {
     "data": {
      "image/png": "[encoded data removed]",
      "text/plain": [
       "<Figure size 144x144 with 1 Axes>"
      ]
     },
     "metadata": {
      "needs_background": "light"
     },
     "output_type": "display_data"
    },
    {
     "data": {
      "image/png": "[encoded data removed]",
      "text/plain": [
       "<Figure size 144x144 with 1 Axes>"
      ]
     },
     "metadata": {
      "needs_background": "light"
     },
     "output_type": "display_data"
    },
    {
     "data": {
      "image/png": "[encoded data removed]",
      "text/plain": [
       "<Figure size 144x144 with 1 Axes>"
      ]
     },
     "metadata": {
      "needs_background": "light"
     },
     "output_type": "display_data"
    },
    {
     "data": {
      "image/png": "[encoded data removed]",
      "text/plain": [
       "<Figure size 144x144 with 1 Axes>"
      ]
     },
     "metadata": {
      "needs_background": "light"
     },
     "output_type": "display_data"
    }
   ],
   "source": [
    "def P5():\n",
    "\n",
    "### STUDENT START ###\n",
    "\n",
    "# Create a 1NN model\n",
    "    NN_model = KNeighborsClassifier(n_neighbors=1)\n",
    "    NN_model.fit(mini_train_data, mini_train_labels)\n",
    "    Y = NN_model.predict(dev_data)\n",
    "    \n",
    "    print(Y.shape)\n",
    "    confusion = confusion_matrix(dev_labels, Y)\n",
    "\n",
    "    print(confusion)\n",
    "    np.fill_diagonal(confusion, 0)\n",
    "\n",
    "    row, col = np.unravel_index(confusion.argmax(), confusion.shape)\n",
    "    max = confusion.max()\n",
    "    \n",
    "    print('\\n===========================================================')\n",
    "    print('the model confuse most often:')\n",
    "    print('There are {0:2d} cases in which the digit {1:d} is confused with the digit {2:d}.'.format(max,row, col))\n",
    "    print('the digits are as the follows:')\n",
    "    print('============================================================\\n')\n",
    "    \n",
    "    \n",
    "\n",
    "    confused_digit = []*max\n",
    "\n",
    "    j = 0\n",
    "    \n",
    "    for i in range(1000): \n",
    "\n",
    "        if (dev_labels[i] == str(row)) & (Y[i] == str(col) ):\n",
    "            confused_digit.append(dev_data[i])\n",
    "            j = j+1\n",
    " \n",
    "  \n",
    "    dim = int(np.sqrt(X.shape[1]))\n",
    "    plt.rc('image', cmap='Greys')\n",
    "\n",
    "    for k in confused_digit:\n",
    "        fig, axs = plt.subplots(1, 1, figsize=(2,2))\n",
    "        axs.imshow(k.reshape((dim,dim)))\n",
    "\n",
    " \n",
    "            \n",
    "### STUDENT END ###\n",
    "\n",
    "P5()"
   ]
  },
  {
   "cell_type": "code",
   "execution_count": null,
   "metadata": {
    "colab": {},
    "colab_type": "code",
    "id": "-P7h-t2ThWA2"
   },
   "outputs": [],
   "source": [
    "\n",
    "\n"
   ]
  }
 ],
 "metadata": {
  "colab": {
   "name": "firstname_lastname_p1.ipynb",
   "private_outputs": true,
   "provenance": [
    {
     "file_id": "https://github.com/MIDS-W207/Master/blob/master/Projects/firstname_lastname_p1.ipynb",
     "timestamp": 1557957807607
    }
   ],
   "version": "0.3.2"
  },
  "kernelspec": {
   "display_name": "Python 3",
   "language": "python",
   "name": "python3"
  },
  "language_info": {
   "codemirror_mode": {
    "name": "ipython",
    "version": 3
   },
   "file_extension": ".py",
   "mimetype": "text/x-python",
   "name": "python",
   "nbconvert_exporter": "python",
   "pygments_lexer": "ipython3",
   "version": "3.8.5"
  },
  "toc": {
   "base_numbering": 1,
   "nav_menu": {},
   "number_sections": false,
   "sideBar": true,
   "skip_h1_title": true,
   "title_cell": "Table of Contents",
   "title_sidebar": "Contents",
   "toc_cell": false,
   "toc_position": {},
   "toc_section_display": true,
   "toc_window_display": false
  }
 },
 "nbformat": 4,
 "nbformat_minor": 1
}
