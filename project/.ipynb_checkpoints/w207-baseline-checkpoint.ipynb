{
 "cells": [
  {
   "cell_type": "markdown",
   "metadata": {
    "id": "KLpZJvRd8yJu"
   },
   "source": [
    "# **W207 - Final Project**\n",
    "# **Incident management process - completion time prediction**\n",
    "\n",
    "Team 4:  Dicky Woo, Joy First, Da-Qi Ren\n",
    "\n",
    "[Incident management process enriched event log dataset](https://archive.ics.uci.edu/ml/datasets/Incident+management+process+enriched+event+log)"
   ]
  },
  {
   "cell_type": "markdown",
   "metadata": {
    "id": "kgyf-imzTCpH"
   },
   "source": [
    "**Project Overview**\n",
    "\n",
    "*Joy to complete*\n",
    "\n",
    "Attribute Information *(to be moved to appendix before submission)*:\n",
    "\n",
    "1. number: incident identifier (24,918 different values);\n",
    "2. incident state: eight levels controlling the incident management process transitions from opening until closing the case;\n",
    "3. active: boolean attribute that shows whether the record is active or closed/canceled;\n",
    "4. reassignment_count: number of times the incident has the group or the support analysts changed;\n",
    "5. reopen_count: number of times the incident resolution was rejected by the caller;\n",
    "6. sys_mod_count: number of incident updates until that moment;\n",
    "7. made_sla: boolean attribute that shows whether the incident exceeded the target SLA;\n",
    "8. caller_id: identifier of the user affected;\n",
    "9. opened_by: identifier of the user who reported the incident;\n",
    "10. opened_at: incident user opening date and time;\n",
    "11. sys_created_by: identifier of the user who registered the incident;\n",
    "12. sys_created_at: incident system creation date and time;\n",
    "13. sys_updated_by: identifier of the user who updated the incident and generated the current log record;\n",
    "14. sys_updated_at: incident system update date and time;\n",
    "15. contact_type: categorical attribute that shows by what means the incident was reported;\n",
    "16. location: identifier of the location of the place affected;\n",
    "17. category: first-level description of the affected service;\n",
    "18. subcategory: second-level description of the affected service (related to the first level description, i.e., to category);\n",
    "19. u_symptom: description of the user perception about service availability;\n",
    "20. cmdb_ci: (confirmation item) identifier used to report the affected item (not mandatory);\n",
    "21. impact: description of the impact caused by the incident (values: 1â€“High; 2â€“Medium; 3â€“Low);\n",
    "22. urgency: description of the urgency informed by the user for the incident resolution (values: 1â€“High; 2â€“Medium; 3â€“Low);\n",
    "23. priority: calculated by the system based on 'impact' and 'urgency';\n",
    "24. assignment_group: identifier of the support group in charge of the incident;\n",
    "25. assigned_to: identifier of the user in charge of the incident;\n",
    "26. knowledge: boolean attribute that shows whether a knowledge base document was used to resolve the incident;\n",
    "27. u_priority_confirmation: boolean attribute that shows whether the priority field has been double-checked;\n",
    "28. notify: categorical attribute that shows whether notifications were generated for the incident;\n",
    "29. problem_id: identifier of the problem associated with the incident;\n",
    "30. rfc: (request for change) identifier of the change request associated with the incident;\n",
    "31. vendor: identifier of the vendor in charge of the incident;\n",
    "32. caused_by: identifier of the RFC responsible by the incident;\n",
    "33. close_code: identifier of the resolution of the incident;\n",
    "34. resolved_by: identifier of the user who resolved the incident;\n",
    "35. resolved_at: incident user resolution date and time (dependent variable);\n",
    "36. closed_at: incident user close date and time (dependent variable)"
   ]
  },
  {
   "cell_type": "markdown",
   "metadata": {
    "id": "qEb-JLptTP7u"
   },
   "source": [
    "**Exploratory Data Analysis**\n",
    "\n",
    "*Da-Qi to complete*\n",
    "\n",
    "*and adding additional column with completion time in hours (closed at - opened at)*"
   ]
  },
  {
   "cell_type": "code",
   "execution_count": 35,
   "metadata": {
    "colab": {
     "base_uri": "https://localhost:8080/"
    },
    "id": "GD5uzHfHT2ta",
    "outputId": "2ecdf74b-b80a-4bfa-8b91-de1eeca0fdce"
   },
   "outputs": [
    {
     "name": "stdout",
     "output_type": "stream",
     "text": [
      "OK\n",
      "Tensorflow version 2.4.1\n"
     ]
    }
   ],
   "source": [
    "%matplotlib inline\n",
    "\n",
    "import time\n",
    "import pandas as pd\n",
    "import numpy as np\n",
    "import matplotlib.pyplot as plt\n",
    "import seaborn as sns\n",
    "from matplotlib.ticker import MultipleLocator\n",
    "from matplotlib import cm\n",
    "from sklearn.pipeline import Pipeline\n",
    "from sklearn.datasets import fetch_openml\n",
    "\n",
    "# SK-learn libraries for learning.\n",
    "from sklearn.neighbors import KNeighborsClassifier as knn\n",
    "from sklearn.linear_model import LinearRegression, LogisticRegressionCV\n",
    "from sklearn.naive_bayes import BernoulliNB\n",
    "from sklearn.naive_bayes import MultinomialNB\n",
    "from sklearn.naive_bayes import GaussianNB\n",
    "from sklearn.ensemble import AdaBoostClassifier\n",
    "from sklearn.tree import DecisionTreeClassifier\n",
    "\n",
    "# SK-learn libraries for evaluation.\n",
    "from sklearn.model_selection import GridSearchCV\n",
    "from sklearn import metrics\n",
    "from sklearn.metrics import confusion_matrix as cm\n",
    "from sklearn.metrics import classification_report\n",
    "from scipy.ndimage.filters import gaussian_filter\n",
    "from sklearn.preprocessing import StandardScaler\n",
    "from sklearn import preprocessing\n",
    "from sklearn.compose import make_column_transformer\n",
    "from sklearn.preprocessing import RobustScaler\n",
    "from sklearn.preprocessing import OneHotEncoder\n",
    "from sklearn.preprocessing import MinMaxScaler\n",
    "\n",
    "# Tensorflow libraries \n",
    "from tensorflow.keras.models import Sequential \n",
    "from tensorflow.keras.layers import Dense, Activation, Dropout, Flatten\n",
    "from tensorflow.keras import optimizers\n",
    "from tensorflow.keras.layers import Conv2D\n",
    "from tensorflow.keras.layers import MaxPooling2D\n",
    " \n",
    "\n",
    "np.random.seed(0)\n",
    "print (\"OK\")\n",
    "import tensorflow as tf\n",
    "print(\"Tensorflow version\", tf.__version__)\n"
   ]
  },
  {
   "cell_type": "code",
   "execution_count": 36,
   "metadata": {
    "colab": {
     "base_uri": "https://localhost:8080/"
    },
    "id": "Nzqd5vKk2M7Y",
    "outputId": "7d22f499-4b39-4a3d-c8b4-a4205fd977ab"
   },
   "outputs": [
    {
     "name": "stdout",
     "output_type": "stream",
     "text": [
      "original dataset shape: (141712, 36)\n",
      "       number incident_state  active  reassignment_count  reopen_count  \\\n",
      "0  INC0000045            New    True                   0             0   \n",
      "1  INC0000045       Resolved    True                   0             0   \n",
      "2  INC0000045       Resolved    True                   0             0   \n",
      "3  INC0000045         Closed   False                   0             0   \n",
      "4  INC0000047            New    True                   0             0   \n",
      "5  INC0000047         Active    True                   1             0   \n",
      "\n",
      "   sys_mod_count  made_sla    caller_id       opened_by        opened_at  ...  \\\n",
      "0              0      True  Caller 2403    Opened by  8  29/2/2016 01:16  ...   \n",
      "1              2      True  Caller 2403    Opened by  8  29/2/2016 01:16  ...   \n",
      "2              3      True  Caller 2403    Opened by  8  29/2/2016 01:16  ...   \n",
      "3              4      True  Caller 2403    Opened by  8  29/2/2016 01:16  ...   \n",
      "4              0      True  Caller 2403  Opened by  397  29/2/2016 04:40  ...   \n",
      "5              1      True  Caller 2403  Opened by  397  29/2/2016 04:40  ...   \n",
      "\n",
      "  u_priority_confirmation         notify problem_id rfc vendor caused_by  \\\n",
      "0                   False  Do Not Notify          ?   ?      ?         ?   \n",
      "1                   False  Do Not Notify          ?   ?      ?         ?   \n",
      "2                   False  Do Not Notify          ?   ?      ?         ?   \n",
      "3                   False  Do Not Notify          ?   ?      ?         ?   \n",
      "4                   False  Do Not Notify          ?   ?      ?         ?   \n",
      "5                   False  Do Not Notify          ?   ?      ?         ?   \n",
      "\n",
      "  closed_code      resolved_by      resolved_at       closed_at  \n",
      "0      code 5  Resolved by 149  29/2/2016 11:29  5/3/2016 12:00  \n",
      "1      code 5  Resolved by 149  29/2/2016 11:29  5/3/2016 12:00  \n",
      "2      code 5  Resolved by 149  29/2/2016 11:29  5/3/2016 12:00  \n",
      "3      code 5  Resolved by 149  29/2/2016 11:29  5/3/2016 12:00  \n",
      "4      code 5   Resolved by 81   1/3/2016 09:52  6/3/2016 10:00  \n",
      "5      code 5   Resolved by 81   1/3/2016 09:52  6/3/2016 10:00  \n",
      "\n",
      "[6 rows x 36 columns]\n"
     ]
    }
   ],
   "source": [
    "#importing the dataset (to be replaced with mount)\n",
    "dataset = pd.read_csv (\"incident_event_log.csv\")\n",
    "#dataset = pd.read_csv (\"./drive/MyDrive/w207_final_project_First_Ren_Woo/incident_event_log.csv\")\n",
    "dataset.head ()\n",
    "print(f\"original dataset shape: {dataset.shape}\")\n",
    "print(dataset.head(6))\n"
   ]
  },
  {
   "cell_type": "code",
   "execution_count": null,
   "metadata": {
    "id": "UoMcPbo722yN"
   },
   "outputs": [],
   "source": []
  },
  {
   "cell_type": "code",
   "execution_count": 37,
   "metadata": {
    "colab": {
     "base_uri": "https://localhost:8080/",
     "height": 841
    },
    "id": "ffRgeDnJcI4q",
    "outputId": "b114896d-5724-4a79-dd9f-b71d75422585"
   },
   "outputs": [
    {
     "data": {
      "text/plain": [
       "(array([0.5, 1.5, 2.5, 3.5, 4.5, 5.5, 6.5]),\n",
       " <a list of 7 Text major ticklabel objects>)"
      ]
     },
     "execution_count": 37,
     "metadata": {},
     "output_type": "execute_result"
    },
    {
     "data": {
      "image/png": "[encoded data removed]",
      "text/plain": [
       "<Figure size 1080x864 with 2 Axes>"
      ]
     },
     "metadata": {},
     "output_type": "display_data"
    }
   ],
   "source": [
    "dataset.corr()\n",
    "#sns.pairplot(dataset, hue = 'closed_time')\n",
    "sns.set(font_scale=1.1)\n",
    "plt.subplots(figsize=(15,12))\n",
    "sns.heatmap(dataset.corr(), annot = True, fmt='.2f', cmap='Blues')\n",
    "plt.xticks(rotation=45)\n"
   ]
  },
  {
   "cell_type": "code",
   "execution_count": 38,
   "metadata": {
    "colab": {
     "base_uri": "https://localhost:8080/",
     "height": 664
    },
    "id": "3wjD5HcvcI-W",
    "outputId": "2be965ce-dd45-4bc7-98ac-91878e918e51"
   },
   "outputs": [
    {
     "data": {
      "image/png": "[encoded data removed]",
      "text/plain": [
       "<Figure size 1080x432 with 1 Axes>"
      ]
     },
     "metadata": {},
     "output_type": "display_data"
    },
    {
     "data": {
      "text/plain": [
       "Active                38716\n",
       "New                   36407\n",
       "Resolved              25751\n",
       "Closed                24985\n",
       "Awaiting User Info    14642\n",
       "Awaiting Vendor         707\n",
       "Awaiting Problem        461\n",
       "Awaiting Evidence        38\n",
       "-100                      5\n",
       "Name: incident_state, dtype: int64"
      ]
     },
     "execution_count": 38,
     "metadata": {},
     "output_type": "execute_result"
    }
   ],
   "source": [
    "# The distribution of incident_state. \n",
    "import matplotlib.cm as cm\n",
    "dataset.groupby('incident_state').count()['number'].plot(kind='bar',\n",
    "          title='Distribution of incident_state',\n",
    "          color= cm.rainbow(np.linspace(0, 6)),\n",
    "          figsize=(15, 6))\n",
    "plt.xticks(rotation=45)\n",
    "plt.show()\n",
    "dataset['incident_state'].value_counts()"
   ]
  },
  {
   "cell_type": "code",
   "execution_count": null,
   "metadata": {
    "id": "hZN_lVsFcJEA"
   },
   "outputs": [],
   "source": []
  },
  {
   "cell_type": "code",
   "execution_count": 39,
   "metadata": {
    "colab": {
     "base_uri": "https://localhost:8080/",
     "height": 428
    },
    "id": "d9CP4GsNcXsz",
    "outputId": "b19cceb2-a8be-477f-f9cd-aa604830e17a"
   },
   "outputs": [
    {
     "data": {
      "image/png": "[encoded data removed]",
      "text/plain": [
       "<Figure size 576x360 with 1 Axes>"
      ]
     },
     "metadata": {},
     "output_type": "display_data"
    },
    {
     "data": {
      "text/plain": [
       "True     15831\n",
       "False     9154\n",
       "Name: made_sla, dtype: int64"
      ]
     },
     "execution_count": 39,
     "metadata": {},
     "output_type": "execute_result"
    }
   ],
   "source": [
    "# The ratio of SLA satisfactions among the closed cases. \n",
    "\n",
    "case_closed = dataset[\"incident_state\"] == \"Closed\"\n",
    "case_closed = dataset[case_closed]\n",
    "case_closed_reopen = case_closed[\"reopen_count\"] > 0\n",
    "case_closed_reopen = case_closed[case_closed_reopen]\n",
    "\n",
    "case_closed['made_sla'].value_counts()\n",
    "case_closed_reopen['made_sla'].value_counts()\n",
    "case_closed['u_symptom'].value_counts()\n",
    "case_closed_reopen['u_symptom'].value_counts()\n",
    "\n",
    "\n",
    "case_closed_reopen.groupby('made_sla').count()['number'].plot(kind='bar',\n",
    "          title='Distribution of closed_code',\n",
    "          color= cm.rainbow(np.linspace(0, 20)),\n",
    "          figsize=(8, 5))\n",
    "plt.xticks(rotation = 45) \n",
    "plt.show()\n",
    "case_closed['made_sla'].value_counts()"
   ]
  },
  {
   "cell_type": "code",
   "execution_count": null,
   "metadata": {
    "id": "yEwAU8TEcXzp"
   },
   "outputs": [],
   "source": []
  },
  {
   "cell_type": "code",
   "execution_count": 40,
   "metadata": {
    "colab": {
     "base_uri": "https://localhost:8080/"
    },
    "id": "z1h91WUQdMIh",
    "outputId": "f25d6b15-656b-4f24-817c-ab15771ff0e1"
   },
   "outputs": [
    {
     "name": "stdout",
     "output_type": "stream",
     "text": [
      "Training data shape (8000, 8)\n",
      "Training lables dataset shape (8000,)\n",
      "Dev data shape (1000, 8)\n",
      "Test data shape (11166, 8)\n",
      "dataset shape after filtering: (23312, 36)\n"
     ]
    }
   ],
   "source": [
    "#importing the dataset (to be replaced with mount)\n",
    "#dataset = pd.read_csv (\"incident_event_log.csv\")\n",
    "#dataset = pd.read_csv (\"/content/drive/MyDrive/w207_final_project_First_Ren_Woo/incident_event_log.csv\")\n",
    "#dataset.head ()\n",
    "#print(f\"original dataset shape: {dataset.shape}\")\n",
    "\n",
    "# dropping features due missing values: problem ID, cmdb_CI, rfc, sys_created_by,sys_created_at,vendor,caused by\n",
    "#dataset.drop (columns =[\"problem_id\", \"cmdb_ci\",\"rfc\", \"sys_created_by\",\"sys_created_at\",\"vendor\", \"caused_by\"], inplace=True)\n",
    "#print(f\"dataset shape after removing features: {dataset.shape}\")\n",
    "\n",
    "# removing \"?\" for the following features:category, subcategory, closed code, resolved by,location,caller id\n",
    "\n",
    "#list = ['category','subcategory','closed_code','resolved_by','location','caller_id']\n",
    "#for i in list:\n",
    "#    dataset = dataset[dataset[i] != \"?\"]\n",
    "\n",
    "#print(f\"dataset shape after removing raws: {dataset.shape}\")\n",
    "\n",
    "# filtering by the following values (based on the data distribution and available records):\n",
    "# *   incident_state = \"Closed\"\n",
    "# *   contact_type = \"Phone\"\n",
    "# *   priority = \"3 - Moderate\"\n",
    "# *   urgency = \"2 - Medium\"\n",
    "# *   impact = \"2 - Medium\"\n",
    "# *   active = \"False\"\n",
    "\n",
    "dataset = dataset[dataset['incident_state'] == \"Closed\"]\n",
    "dataset = dataset[dataset['contact_type'] == \"Phone\"]\n",
    "dataset = dataset[dataset['priority'] == \"3 - Moderate\"]\n",
    "dataset = dataset[dataset['urgency'] == \"2 - Medium\"]\n",
    "# splitting dataset: train:dev:test - 60:20:20 ratio \n",
    "train_data, train_labels = full_X[:8000],full_Y[:8000] \n",
    "dev_data, dev_labels = full_X[8000:9000],full_Y[8000:9000]\n",
    "test_data, test_labels = full_X[9000:],full_Y[9000:]\n",
    "\n",
    "print(f\"Training data shape {train_data.shape}\")\n",
    "print(f\"Training lables dataset shape {train_labels.shape}\")\n",
    "print(f\"Dev data shape {dev_data.shape}\")\n",
    "print(f\"Test data shape {test_data.shape}\")\n",
    "\n",
    "\n",
    "dataset = dataset[dataset['impact'] == \"2 - Medium\"]\n",
    "#dataset = dataset[dataset['active'] == \"False\"]\n",
    "\n",
    "print(f\"dataset shape after filtering: {dataset.shape}\")\n",
    "\n",
    "# option 1 - with 19 features\n",
    "# dataset.drop (columns =['incident_state', 'contact_type','priority', 'urgency','impact','active','opened_at','resolved_at','notify','closed_at', 'made_sla'], inplace=True)\n",
    "# data cleansing and preparation\n"
   ]
  },
  {
   "cell_type": "code",
   "execution_count": null,
   "metadata": {
    "id": "YyAo2CgodMSk"
   },
   "outputs": [],
   "source": []
  },
  {
   "cell_type": "code",
   "execution_count": 41,
   "metadata": {
    "colab": {
     "base_uri": "https://localhost:8080/"
    },
    "id": "qLcH1HMW5Ajj",
    "outputId": "a9be8f19-a3b1-4e7e-932f-84ea83fe1855"
   },
   "outputs": [
    {
     "ename": "SyntaxError",
     "evalue": "invalid syntax (<ipython-input-41-7e023c91e684>, line 1)",
     "output_type": "error",
     "traceback": [
      "\u001b[0;36m  File \u001b[0;32m\"<ipython-input-41-7e023c91e684>\"\u001b[0;36m, line \u001b[0;32m1\u001b[0m\n\u001b[0;31m    if==0:\u001b[0m\n\u001b[0m      ^\u001b[0m\n\u001b[0;31mSyntaxError\u001b[0m\u001b[0;31m:\u001b[0m invalid syntax\n"
     ]
    }
   ],
   "source": [
    "if==0:\n",
    "import warnings\n",
    "warnings.filterwarnings('ignore')\n",
    " \n",
    "# Preparation of the \"limited dataset\" - keeping only known features at the time of openning the ticket (excluding 'u_symptom' to avoid data loss)\n",
    "#dataset_ml=dataset[['location','category','subcategory','caller_id','opened_by','assignment_group','assigned_to','u_priority_confirmation', 'processing_time','created_time','updated_time','resolved_time','made_sla']]\n",
    "\n",
    "dataset = dataset[['location','category','subcategory','caller_id','opened_by','assignment_group','assigned_to','u_priority_confirmation', 'opened_at','sys_created_at','sys_updated_at','resolved_at', 'closed_at','made_sla']]\n",
    "\n",
    "#print(f\"dataset_ml shape after dropping additional features: {dataset_ml.shape}\")\n",
    "\n",
    "list = ['location','category','subcategory','caller_id','opened_by','assignment_group','assigned_to','u_priority_confirmation', 'made_sla']\n",
    "\n",
    "for i in list:\n",
    "    dataset = dataset[dataset[i] != \"?\"]\n",
    "\n",
    "dataset['closed_at'] = pd.to_datetime(dataset['closed_at'])\n",
    "dataset['opened_at'] = pd.to_datetime(dataset['opened_at'])\n",
    "\n",
    "dataset['delta'] = dataset.closed_at - dataset.opened_at\n",
    "dataset['processing_time'] = dataset['delta'].dt.total_seconds()/3600\n",
    "dataset['processing_time'] = dataset['processing_time'].round(1)\n",
    "\n",
    "'''\n",
    "dataset = dataset.drop(['delta','resolved_at', 'sys_updated_at','closed_at','opened_at'], axis=1)\n",
    "\n",
    "dataset=dataset[['location','category','subcategory','caller_id','opened_by','assignment_group','assigned_to','u_priority_confirmation','made_sla']]\n",
    "\n",
    "#print(dataset.head(6))\n",
    " \n",
    "#print('dataset shape: ', dataset.shape)\n",
    "print(f\"dataset_ml shape after removing raws: {dataset.shape}\")\n",
    " \n",
    "print(dataset.head ())\n",
    "'''"
   ]
  },
  {
   "cell_type": "code",
   "execution_count": null,
   "metadata": {
    "id": "TdO6IFhb47Hr"
   },
   "outputs": [],
   "source": []
  },
  {
   "cell_type": "code",
   "execution_count": null,
   "metadata": {
    "id": "L3WK78Bi9x5x"
   },
   "outputs": [],
   "source": []
  },
  {
   "cell_type": "code",
   "execution_count": null,
   "metadata": {
    "id": "QJKmQiT39yoh"
   },
   "outputs": [],
   "source": []
  },
  {
   "cell_type": "code",
   "execution_count": null,
   "metadata": {
    "id": "TNAEvVSKAi47"
   },
   "outputs": [],
   "source": []
  },
  {
   "cell_type": "markdown",
   "metadata": {
    "id": "UAR3AViJTei3"
   },
   "source": [
    "**Data Cleansing and Preparation Summary**\n",
    "\n",
    "*Joy to complete*"
   ]
  },
  {
   "cell_type": "code",
   "execution_count": null,
   "metadata": {
    "id": "AICpFuZ4gYau"
   },
   "outputs": [],
   "source": []
  },
  {
   "cell_type": "code",
   "execution_count": 42,
   "metadata": {
    "id": "uPIY24wRh-pC"
   },
   "outputs": [],
   "source": [
    "#dimensonality reduction - could be included into a final submission - Joy? \n",
    "#  https://scikit-learn.org/stable/modules/feature_selection.html"
   ]
  },
  {
   "cell_type": "code",
   "execution_count": 43,
   "metadata": {
    "colab": {
     "base_uri": "https://localhost:8080/"
    },
    "id": "HZq5TfEGWSPM",
    "outputId": "b6a265bd-ae65-4d61-b416-3f9c374464dd"
   },
   "outputs": [
    {
     "name": "stdout",
     "output_type": "stream",
     "text": [
      "dataset_ml shape after dropping additional features: (23312, 9)\n",
      "dataset_ml shape after removing raws: (20166, 9)\n",
      "Training data shape (12400, 8)\n",
      "Training lables dataset shape (12400,)\n",
      "Dev data shape (3652, 8)\n",
      "Test data shape (4013, 8)\n"
     ]
    }
   ],
   "source": [
    "# Joy - ML - predicting whether the ticket will be closed within the SLA\n",
    "\n",
    "# Preparation of the \"limited dataset\" - keeping only known features at the time of openning the ticket (excluding 'u_symptom' to avoid data loss)\n",
    "dataset_ml=dataset[['location','category','subcategory','caller_id','opened_by','assignment_group','assigned_to','u_priority_confirmation','made_sla']]\n",
    "\n",
    "print(f\"dataset_ml shape after dropping additional features: {dataset_ml.shape}\")\n",
    "\n",
    "list = ['location','category','subcategory','caller_id','opened_by','assignment_group','assigned_to','u_priority_confirmation','made_sla']\n",
    "for i in list:\n",
    "    dataset_ml = dataset_ml[dataset_ml[i] != \"?\"]\n",
    "\n",
    "print(f\"dataset_ml shape after removing raws: {dataset_ml.shape}\")\n",
    "\n",
    "# split between X & Y\n",
    "full_X = dataset_ml.drop (columns='made_sla')\n",
    "full_Y = dataset_ml[['made_sla']]\n",
    "\n",
    "#preparation for sklearn & ML\n",
    "\n",
    "# convert pd.dataset to np array\n",
    "full_X.to_numpy()\n",
    "full_Y.to_numpy()\n",
    "\n",
    "# convert categorical to numerical\n",
    "le  = preprocessing.LabelEncoder()\n",
    "\n",
    "full_Y['made_sla'] = le.fit_transform(full_Y['made_sla'])\n",
    "\n",
    "#adjusting the shape of Y\n",
    "full_Y=np.ravel(full_Y)\n",
    "\n",
    "# list = ['location','category','subcategory','caller_id','opened_by','assignment_group','assigned_to','u_priority_confirmation']\n",
    "# for i in list:\n",
    "#     full_X[i] = le.fit_transform(full_X[i])\n",
    "\n",
    "full_X['location'] = le.fit_transform(full_X['location'])\n",
    "full_X['category'] = le.fit_transform(full_X['category'])\n",
    "full_X['subcategory'] = le.fit_transform(full_X['subcategory'])\n",
    "full_X['caller_id'] = le.fit_transform(full_X['caller_id'])\n",
    "full_X['opened_by'] = le.fit_transform(full_X['opened_by'])\n",
    "full_X['assignment_group'] = le.fit_transform(full_X['assignment_group'])\n",
    "full_X['assigned_to'] = le.fit_transform(full_X['assigned_to'])\n",
    "full_X['u_priority_confirmation'] = le.fit_transform(full_X['u_priority_confirmation'])\n",
    "\n",
    "# splitting dataset: train:dev:test - 60:20:20 ratio \n",
    "train_data, train_labels = full_X[:12400],full_Y[:12400] \n",
    "dev_data, dev_labels = full_X[12401:16053],full_Y[12401:16053]\n",
    "test_data, test_labels = full_X[16054:20067],full_Y[16054:20067]\n",
    "\n",
    "print(f\"Training data shape {train_data.shape}\")\n",
    "print(f\"Training lables dataset shape {train_labels.shape}\")\n",
    "print(f\"Dev data shape {dev_data.shape}\")\n",
    "print(f\"Test data shape {test_data.shape}\")\n"
   ]
  },
  {
   "cell_type": "code",
   "execution_count": null,
   "metadata": {
    "id": "gYnkRlGB8rnC"
   },
   "outputs": [],
   "source": []
  },
  {
   "cell_type": "code",
   "execution_count": null,
   "metadata": {
    "id": "VnSik2Q98sdv"
   },
   "outputs": [],
   "source": []
  },
  {
   "cell_type": "code",
   "execution_count": 44,
   "metadata": {
    "colab": {
     "base_uri": "https://localhost:8080/"
    },
    "id": "Thxt2hYNYlIk",
    "outputId": "89bac6d2-4b0e-4318-a38f-6404efa8f0eb"
   },
   "outputs": [
    {
     "name": "stdout",
     "output_type": "stream",
     "text": [
      "For K = 1, the mean accuracy score is 0.654\n",
      "For K = 3, the mean accuracy score is 0.671\n",
      "For K = 5, the mean accuracy score is 0.68\n",
      "For K = 7, the mean accuracy score is 0.7\n",
      "For K = 9, the mean accuracy score is 0.7\n",
      "For K = 11, the mean accuracy score is 0.712\n",
      "For K = 15, the mean accuracy score is 0.721\n"
     ]
    }
   ],
   "source": [
    "# KNN classifier\n",
    "\n",
    "def KNN(k_values):\n",
    "\n",
    "  for i in k_values:\n",
    "    model = knn(n_neighbors=i)\n",
    "    model.fit(train_data, train_labels)\n",
    "    pred = model.predict(dev_data)\n",
    "    #calculate mean accuracy score for each label\n",
    "    acc = model.score(dev_data, dev_labels) \n",
    "\n",
    "    print(f\"For K = {i}, the mean accuracy score is {np.round(acc,3)}\") \n",
    "\n",
    "k_values = [1,3,5,7,9,11,15]\n",
    "KNN(k_values)"
   ]
  },
  {
   "cell_type": "code",
   "execution_count": null,
   "metadata": {
    "id": "VllGWP57CtE6"
   },
   "outputs": [],
   "source": []
  },
  {
   "cell_type": "code",
   "execution_count": 45,
   "metadata": {
    "colab": {
     "base_uri": "https://localhost:8080/"
    },
    "id": "NeZCuX_wI9-u",
    "outputId": "b62ec6ae-b85e-43a9-fc23-e49a67762c38"
   },
   "outputs": [
    {
     "name": "stdout",
     "output_type": "stream",
     "text": [
      "With random forest classifier 200 200 the mean accuracy score is 0.761\n",
      "[0.7606790799561884]\n",
      "With random forest classifier 200 300 the mean accuracy score is 0.756\n",
      "[0.7606790799561884, 0.7562979189485214]\n",
      "With random forest classifier 200 400 the mean accuracy score is 0.763\n",
      "[0.7606790799561884, 0.7562979189485214, 0.7628696604600219]\n",
      "With random forest classifier 200 500 the mean accuracy score is 0.762\n",
      "[0.7606790799561884, 0.7562979189485214, 0.7628696604600219, 0.7623220153340635]\n",
      "With random forest classifier 300 200 the mean accuracy score is 0.76\n",
      "[0.7606790799561884, 0.7562979189485214, 0.7628696604600219, 0.7623220153340635, 0.7604052573932092]\n",
      "With random forest classifier 300 300 the mean accuracy score is 0.76\n",
      "[0.7606790799561884, 0.7562979189485214, 0.7628696604600219, 0.7623220153340635, 0.7604052573932092, 0.7598576122672508]\n",
      "With random forest classifier 300 400 the mean accuracy score is 0.761\n",
      "[0.7606790799561884, 0.7562979189485214, 0.7628696604600219, 0.7623220153340635, 0.7604052573932092, 0.7598576122672508, 0.7606790799561884]\n",
      "With random forest classifier 300 500 the mean accuracy score is 0.762\n",
      "[0.7606790799561884, 0.7562979189485214, 0.7628696604600219, 0.7623220153340635, 0.7604052573932092, 0.7598576122672508, 0.7606790799561884, 0.7617743702081051]\n",
      "With random forest classifier 400 200 the mean accuracy score is 0.76\n",
      "[0.7606790799561884, 0.7562979189485214, 0.7628696604600219, 0.7623220153340635, 0.7604052573932092, 0.7598576122672508, 0.7606790799561884, 0.7617743702081051, 0.7604052573932092]\n",
      "With random forest classifier 400 300 the mean accuracy score is 0.761\n",
      "[0.7606790799561884, 0.7562979189485214, 0.7628696604600219, 0.7623220153340635, 0.7604052573932092, 0.7598576122672508, 0.7606790799561884, 0.7617743702081051, 0.7604052573932092, 0.7612267250821467]\n",
      "With random forest classifier 400 400 the mean accuracy score is 0.761\n",
      "[0.7606790799561884, 0.7562979189485214, 0.7628696604600219, 0.7623220153340635, 0.7604052573932092, 0.7598576122672508, 0.7606790799561884, 0.7617743702081051, 0.7604052573932092, 0.7612267250821467, 0.7606790799561884]\n",
      "With random forest classifier 400 500 the mean accuracy score is 0.76\n",
      "[0.7606790799561884, 0.7562979189485214, 0.7628696604600219, 0.7623220153340635, 0.7604052573932092, 0.7598576122672508, 0.7606790799561884, 0.7617743702081051, 0.7604052573932092, 0.7612267250821467, 0.7606790799561884, 0.76013143483023]\n",
      "With random forest classifier 500 200 the mean accuracy score is 0.762\n",
      "[0.7606790799561884, 0.7562979189485214, 0.7628696604600219, 0.7623220153340635, 0.7604052573932092, 0.7598576122672508, 0.7606790799561884, 0.7617743702081051, 0.7604052573932092, 0.7612267250821467, 0.7606790799561884, 0.76013143483023, 0.761500547645126]\n",
      "With random forest classifier 500 300 the mean accuracy score is 0.762\n",
      "[0.7606790799561884, 0.7562979189485214, 0.7628696604600219, 0.7623220153340635, 0.7604052573932092, 0.7598576122672508, 0.7606790799561884, 0.7617743702081051, 0.7604052573932092, 0.7612267250821467, 0.7606790799561884, 0.76013143483023, 0.761500547645126, 0.7623220153340635]\n",
      "With random forest classifier 500 400 the mean accuracy score is 0.76\n",
      "[0.7606790799561884, 0.7562979189485214, 0.7628696604600219, 0.7623220153340635, 0.7604052573932092, 0.7598576122672508, 0.7606790799561884, 0.7617743702081051, 0.7604052573932092, 0.7612267250821467, 0.7606790799561884, 0.76013143483023, 0.761500547645126, 0.7623220153340635, 0.7604052573932092]\n",
      "With random forest classifier 500 500 the mean accuracy score is 0.761\n",
      "[0.7606790799561884, 0.7562979189485214, 0.7628696604600219, 0.7623220153340635, 0.7604052573932092, 0.7598576122672508, 0.7606790799561884, 0.7617743702081051, 0.7604052573932092, 0.7612267250821467, 0.7606790799561884, 0.76013143483023, 0.761500547645126, 0.7623220153340635, 0.7604052573932092, 0.7612267250821467]\n",
      "With random forest classifier, the mean accuracy score is 0.763\n"
     ]
    }
   ],
   "source": [
    "# Random Forest Classifier \n",
    "\n",
    "from sklearn.ensemble import RandomForestClassifier\n",
    "n_est= np.arange(200, 600, 100)  \n",
    "ran_state= np.arange(200, 600, 100)  \n",
    "acc_max=[]\n",
    "for i in n_est:\n",
    "    for j in ran_state:\n",
    "        random_forrest_model = RandomForestClassifier(n_estimators=i,random_state=j)\n",
    "        random_forrest_model.fit(train_data, train_labels)\n",
    "        rf_acc = random_forrest_model.score(dev_data, dev_labels) \n",
    "        print(\"With random forest classifier\", i, j, f\"the mean accuracy score is {np.round(rf_acc,3)}\") \n",
    "        acc_max.append(rf_acc)    \n",
    "        print(acc_max )\n",
    "max  = np.max(acc_max)\n",
    "print(f\"With random forest classifier, the mean accuracy score is {np.round(max,3)}\") \n"
   ]
  },
  {
   "cell_type": "code",
   "execution_count": null,
   "metadata": {
    "id": "Y00HuAW8I-ZU"
   },
   "outputs": [],
   "source": []
  },
  {
   "cell_type": "code",
   "execution_count": 46,
   "metadata": {
    "colab": {
     "base_uri": "https://localhost:8080/"
    },
    "id": "98Ns3P7pCtRl",
    "outputId": "ee82bdd7-5213-43b1-ebee-f6ec74255c4a"
   },
   "outputs": [
    {
     "name": "stdout",
     "output_type": "stream",
     "text": [
      "Train set = 12400\n",
      "Test set = 4013\n",
      "Train time = 15.25\n",
      "Test score: [0.0, 0.7771084308624268]\n",
      "Test accuracy: 0.7771084308624268\n"
     ]
    }
   ],
   "source": [
    "#Tensorflow approach \n",
    "from tensorflow.keras.models import Sequential\n",
    "from tensorflow.keras.layers import Dense,Activation\n",
    "from tensorflow.keras.optimizers import SGD,Adam\n",
    "from tensorflow.keras.utils import to_categorical\n",
    "\n",
    "\n",
    "numTrainExamples = train_data.shape[0]\n",
    "numTestExamples = test_data.shape[0]\n",
    "\n",
    "print ('Train set = %d' %(numTrainExamples))\n",
    "print ('Test set = %d' %(numTestExamples))\n",
    "\n",
    " \n",
    "model = Sequential() \n",
    "model.add(Dense(1, input_dim=8, activation='softmax')) \n",
    " \n",
    "## Cost function & Objective (and solver)\n",
    "sgd = optimizers.SGD(lr=0.01)\n",
    "model.compile(optimizer=sgd, loss='categorical_crossentropy', metrics=['accuracy'])\n",
    "\n",
    "start_time = time.time()\n",
    "H = model.fit(train_data, train_labels, shuffle=False, batch_size=numTrainExamples, verbose=0, epochs=500) \n",
    "print ('Train time = %.2f' %(time.time() - start_time))\n",
    "score = model.evaluate(dev_data, dev_labels, verbose=0) \n",
    "\n",
    "#plt.plot(H.history['acc'])\n",
    "#plt.plot(history.history['ca_acc'], 'r')\n",
    "\n",
    "\n",
    "\n",
    "print('Test score:', score) \n",
    "print('Test accuracy:', score[1])\n",
    "\n",
    " "
   ]
  },
  {
   "cell_type": "code",
   "execution_count": null,
   "metadata": {
    "id": "plQzHrqzj-X2"
   },
   "outputs": [],
   "source": []
  },
  {
   "cell_type": "code",
   "execution_count": null,
   "metadata": {
    "id": "uYhrd1-zCtUz"
   },
   "outputs": [],
   "source": []
  },
  {
   "cell_type": "code",
   "execution_count": null,
   "metadata": {
    "id": "Vc9Z0G63CtX4"
   },
   "outputs": [],
   "source": []
  },
  {
   "cell_type": "markdown",
   "metadata": {
    "id": "e4ZZJRj-Yf7_"
   },
   "source": [
    "**ML Approach Summary**\n",
    "\n",
    "*Dicky to complete*"
   ]
  },
  {
   "cell_type": "markdown",
   "metadata": {
    "id": "87o282ARDZgX"
   },
   "source": [
    "# New Section"
   ]
  },
  {
   "cell_type": "code",
   "execution_count": null,
   "metadata": {
    "colab": {
     "base_uri": "https://localhost:8080/",
     "height": 391
    },
    "id": "lCs0KFycQgSH",
    "outputId": "ceb3c563-ad98-4a8b-9613-e81579660798"
   },
   "outputs": [
    {
     "data": {
      "text/html": [
       "<div>\n",
       "<style scoped>\n",
       "    .dataframe tbody tr th:only-of-type {\n",
       "        vertical-align: middle;\n",
       "    }\n",
       "\n",
       "    .dataframe tbody tr th {\n",
       "        vertical-align: top;\n",
       "    }\n",
       "\n",
       "    .dataframe thead th {\n",
       "        text-align: right;\n",
       "    }\n",
       "</style>\n",
       "<table border=\"1\" class=\"dataframe\">\n",
       "  <thead>\n",
       "    <tr style=\"text-align: right;\">\n",
       "      <th></th>\n",
       "      <th>number</th>\n",
       "      <th>caller_id</th>\n",
       "      <th>opened_by</th>\n",
       "      <th>opened_at</th>\n",
       "      <th>sys_updated_by</th>\n",
       "      <th>sys_updated_at</th>\n",
       "      <th>location</th>\n",
       "      <th>category</th>\n",
       "      <th>subcategory</th>\n",
       "      <th>u_symptom</th>\n",
       "      <th>assignment_group</th>\n",
       "      <th>assigned_to</th>\n",
       "      <th>knowledge</th>\n",
       "      <th>u_priority_confirmation</th>\n",
       "      <th>notify</th>\n",
       "      <th>closed_at</th>\n",
       "      <th>processing_time</th>\n",
       "    </tr>\n",
       "  </thead>\n",
       "  <tbody>\n",
       "    <tr>\n",
       "      <th>3</th>\n",
       "      <td>INC0000045</td>\n",
       "      <td>Caller 2403</td>\n",
       "      <td>Opened by  8</td>\n",
       "      <td>2016-02-29 01:16:00</td>\n",
       "      <td>Updated by 908</td>\n",
       "      <td>5/3/2016 12:00</td>\n",
       "      <td>Location 143</td>\n",
       "      <td>Category 55</td>\n",
       "      <td>Subcategory 170</td>\n",
       "      <td>Symptom 72</td>\n",
       "      <td>Group 56</td>\n",
       "      <td>?</td>\n",
       "      <td>True</td>\n",
       "      <td>False</td>\n",
       "      <td>Do Not Notify</td>\n",
       "      <td>2016-05-03 12:00:00</td>\n",
       "      <td>1546.7</td>\n",
       "    </tr>\n",
       "    <tr>\n",
       "      <th>12</th>\n",
       "      <td>INC0000047</td>\n",
       "      <td>Caller 2403</td>\n",
       "      <td>Opened by  397</td>\n",
       "      <td>2016-02-29 04:40:00</td>\n",
       "      <td>Updated by 908</td>\n",
       "      <td>6/3/2016 10:00</td>\n",
       "      <td>Location 165</td>\n",
       "      <td>Category 40</td>\n",
       "      <td>Subcategory 215</td>\n",
       "      <td>Symptom 471</td>\n",
       "      <td>Group 24</td>\n",
       "      <td>Resolver 89</td>\n",
       "      <td>True</td>\n",
       "      <td>False</td>\n",
       "      <td>Do Not Notify</td>\n",
       "      <td>2016-06-03 10:00:00</td>\n",
       "      <td>2285.3</td>\n",
       "    </tr>\n",
       "    <tr>\n",
       "      <th>19</th>\n",
       "      <td>INC0000057</td>\n",
       "      <td>Caller 4416</td>\n",
       "      <td>Opened by  8</td>\n",
       "      <td>2016-02-29 06:10:00</td>\n",
       "      <td>Updated by 908</td>\n",
       "      <td>6/3/2016 03:00</td>\n",
       "      <td>Location 204</td>\n",
       "      <td>Category 20</td>\n",
       "      <td>Subcategory 125</td>\n",
       "      <td>Symptom 471</td>\n",
       "      <td>Group 70</td>\n",
       "      <td>Resolver 6</td>\n",
       "      <td>True</td>\n",
       "      <td>False</td>\n",
       "      <td>Do Not Notify</td>\n",
       "      <td>2016-06-03 03:00:00</td>\n",
       "      <td>2276.8</td>\n",
       "    </tr>\n",
       "    <tr>\n",
       "      <th>23</th>\n",
       "      <td>INC0000060</td>\n",
       "      <td>Caller 4491</td>\n",
       "      <td>Opened by  180</td>\n",
       "      <td>2016-02-29 06:38:00</td>\n",
       "      <td>Updated by 908</td>\n",
       "      <td>7/3/2016 13:00</td>\n",
       "      <td>Location 204</td>\n",
       "      <td>Category 9</td>\n",
       "      <td>Subcategory 97</td>\n",
       "      <td>Symptom 450</td>\n",
       "      <td>Group 25</td>\n",
       "      <td>Resolver 125</td>\n",
       "      <td>True</td>\n",
       "      <td>False</td>\n",
       "      <td>Do Not Notify</td>\n",
       "      <td>2016-07-03 13:00:00</td>\n",
       "      <td>3006.4</td>\n",
       "    </tr>\n",
       "    <tr>\n",
       "      <th>39</th>\n",
       "      <td>INC0000063</td>\n",
       "      <td>Caller 2146</td>\n",
       "      <td>Opened by  180</td>\n",
       "      <td>2016-02-29 07:08:00</td>\n",
       "      <td>Updated by 908</td>\n",
       "      <td>5/3/2016 17:00</td>\n",
       "      <td>Location 93</td>\n",
       "      <td>Category 20</td>\n",
       "      <td>Subcategory 125</td>\n",
       "      <td>Symptom 471</td>\n",
       "      <td>Group 23</td>\n",
       "      <td>?</td>\n",
       "      <td>True</td>\n",
       "      <td>False</td>\n",
       "      <td>Do Not Notify</td>\n",
       "      <td>2016-05-03 17:00:00</td>\n",
       "      <td>1545.9</td>\n",
       "    </tr>\n",
       "  </tbody>\n",
       "</table>\n",
       "</div>"
      ],
      "text/plain": [
       "        number    caller_id  ...           closed_at processing_time\n",
       "3   INC0000045  Caller 2403  ... 2016-05-03 12:00:00          1546.7\n",
       "12  INC0000047  Caller 2403  ... 2016-06-03 10:00:00          2285.3\n",
       "19  INC0000057  Caller 4416  ... 2016-06-03 03:00:00          2276.8\n",
       "23  INC0000060  Caller 4491  ... 2016-07-03 13:00:00          3006.4\n",
       "39  INC0000063  Caller 2146  ... 2016-05-03 17:00:00          1545.9\n",
       "\n",
       "[5 rows x 17 columns]"
      ]
     },
     "execution_count": 22,
     "metadata": {
      "tags": []
     },
     "output_type": "execute_result"
    }
   ],
   "source": [
    "dataset.head ()"
   ]
  },
  {
   "cell_type": "code",
   "execution_count": null,
   "metadata": {
    "id": "TInPkW-9Ymua"
   },
   "outputs": [],
   "source": [
    "# Dicky - ML ...\n",
    "# caller_id; opened_by; location; category;subcategory;  assignment_group; u_symptom; assigned_to; u_priority_confirmation\n",
    "# links:\n",
    "# Random Forest regression: https://heartbeat.fritz.ai/random-forest-regression-in-python-using-scikit-learn-9e9b147e2153\n",
    "# Naive Bayes regression... (bins segregation?)\n",
    "# https://datascience.stackexchange.com/questions/27539/choosing-a-model-for-dataset-with-categorical-variables\n",
    "# https://towardsdatascience.com/machine-learning-on-categorical-variables-3b76ffe4a7cb\n",
    "# https://scikit-learn.org/stable/modules/generated/sklearn.preprocessing.OneHotEncoder.html\n",
    "\n"
   ]
  },
  {
   "cell_type": "code",
   "execution_count": null,
   "metadata": {
    "colab": {
     "base_uri": "https://localhost:8080/"
    },
    "id": "W-VvQjxVg_KU",
    "outputId": "869e35ac-7086-49a7-d52d-859e58d39837"
   },
   "outputs": [
    {
     "name": "stdout",
     "output_type": "stream",
     "text": [
      "The KNN model has f1-score of 0.7277, accuracy of 0.7347 and Area under the ROC curve of 0.5935\n"
     ]
    }
   ],
   "source": [
    "knn_grid_params = {\n",
    "    'n_neighbors': [*range(1, 30, 1)],\n",
    "    'weights': ['uniform', 'distance'],\n",
    "    'metric': ['euclidean', 'manhattan']\n",
    "}\n",
    "optimize_knn = GridSearchCV(knn(), knn_grid_params, cv = 5, scoring = 'roc_auc')\n",
    "optimize_knn.fit(train_data, train_labels)\n",
    "optimize_knn_prediction = optimize_knn.predict(dev_data)\n",
    "optimize_knn_score = metrics.f1_score(dev_labels, optimize_knn_prediction, average = \"weighted\")\n",
    "optimize_knn_accuracy = metrics.accuracy_score(dev_labels, optimize_knn_prediction)\n",
    "optimize_knn_roc_auc = metrics.roc_auc_score(dev_labels, optimize_knn_prediction)\n",
    "print(\"The KNN model has f1-score of {0:.4f}, accuracy of {1:.4f} and Area under \"\n",
    "\"the ROC curve of {2:.4f}\".format(optimize_knn_score, optimize_knn_accuracy,\n",
    "                                  optimize_knn_roc_auc))"
   ]
  },
  {
   "cell_type": "code",
   "execution_count": null,
   "metadata": {
    "id": "sVMC-kkYmpoo"
   },
   "outputs": [],
   "source": [
    "# How to tune adaboost decision tree\n",
    "# https://medium.com/@chaudhurysrijani/tuning-of-adaboost-with-computational-complexity-8727d01a9d20\n",
    "ada_grid_params = {\"base_estimator__criterion\" : [\"gini\", \"entropy\"],\n",
    "                   \"base_estimator__splitter\" :   [\"best\", \"random\"],\n",
    "                   \"base_estimator__max_depth\": [1, 2, 3],\n",
    "                   \"learning_rate\": [0.01, 0.1, 1.0],\n",
    "                   \"n_estimators\": [10, 50, 100]\n",
    "                   }\n",
    "\n",
    "# use the default decision tree classifier as based estimator\n",
    "dt = DecisionTreeClassifier()\n",
    "ada = AdaBoostClassifier(dt)\n",
    "optimize_ada = GridSearchCV(ada, ada_grid_params, cv = 5, scoring = 'roc_auc')\n",
    "optimize_ada.fit(train_data, train_labels)\n",
    "optimize_ada_prediction = optimize_ada.predict(dev_data)\n",
    "optimize_ada_score = metrics.f1_score(dev_labels, optimize_ada_prediction, average = \"weighted\")\n",
    "optimize_ada_accuracy = metrics.accuracy_score(dev_labels, optimize_ada_prediction)\n",
    "optimize_ada_roc_auc = metrics.roc_auc_score(dev_labels, optimize_ada_prediction)\n",
    "print(\"The AdaBoost Decision Tree model has f1-score of {0:.4f}, accuracy of {1:.4f} \"\n",
    "\"and Area under the ROC curve of {2:.4f}\".format(optimize_ada_score, optimize_ada_accuracy,\n",
    "                                                 optimize_ada_roc_auc))"
   ]
  },
  {
   "cell_type": "code",
   "execution_count": null,
   "metadata": {
    "colab": {
     "base_uri": "https://localhost:8080/"
    },
    "id": "mibrWGiiTMUK",
    "outputId": "b74247c2-4212-46b7-b570-0fbc1d2f6bb7"
   },
   "outputs": [
    {
     "name": "stderr",
     "output_type": "stream",
     "text": [
      "/usr/local/lib/python3.7/dist-packages/sklearn/linear_model/_logistic.py:940: ConvergenceWarning: lbfgs failed to converge (status=1):\n",
      "STOP: TOTAL NO. of ITERATIONS REACHED LIMIT.\n",
      "\n",
      "Increase the number of iterations (max_iter) or scale the data as shown in:\n",
      "    https://scikit-learn.org/stable/modules/preprocessing.html\n",
      "Please also refer to the documentation for alternative solver options:\n",
      "    https://scikit-learn.org/stable/modules/linear_model.html#logistic-regression\n",
      "  extra_warning_msg=_LOGISTIC_SOLVER_CONVERGENCE_MSG)\n",
      "/usr/local/lib/python3.7/dist-packages/sklearn/linear_model/_logistic.py:940: ConvergenceWarning: lbfgs failed to converge (status=1):\n",
      "STOP: TOTAL NO. of ITERATIONS REACHED LIMIT.\n",
      "\n",
      "Increase the number of iterations (max_iter) or scale the data as shown in:\n",
      "    https://scikit-learn.org/stable/modules/preprocessing.html\n",
      "Please also refer to the documentation for alternative solver options:\n",
      "    https://scikit-learn.org/stable/modules/linear_model.html#logistic-regression\n",
      "  extra_warning_msg=_LOGISTIC_SOLVER_CONVERGENCE_MSG)\n",
      "/usr/local/lib/python3.7/dist-packages/sklearn/linear_model/_logistic.py:940: ConvergenceWarning: lbfgs failed to converge (status=1):\n",
      "STOP: TOTAL NO. of ITERATIONS REACHED LIMIT.\n",
      "\n",
      "Increase the number of iterations (max_iter) or scale the data as shown in:\n",
      "    https://scikit-learn.org/stable/modules/preprocessing.html\n",
      "Please also refer to the documentation for alternative solver options:\n",
      "    https://scikit-learn.org/stable/modules/linear_model.html#logistic-regression\n",
      "  extra_warning_msg=_LOGISTIC_SOLVER_CONVERGENCE_MSG)\n",
      "/usr/local/lib/python3.7/dist-packages/sklearn/linear_model/_logistic.py:940: ConvergenceWarning: lbfgs failed to converge (status=1):\n",
      "STOP: TOTAL NO. of ITERATIONS REACHED LIMIT.\n",
      "\n",
      "Increase the number of iterations (max_iter) or scale the data as shown in:\n",
      "    https://scikit-learn.org/stable/modules/preprocessing.html\n",
      "Please also refer to the documentation for alternative solver options:\n",
      "    https://scikit-learn.org/stable/modules/linear_model.html#logistic-regression\n",
      "  extra_warning_msg=_LOGISTIC_SOLVER_CONVERGENCE_MSG)\n"
     ]
    },
    {
     "name": "stdout",
     "output_type": "stream",
     "text": [
      "The Logistic Regression model has f1-score of 0.7057, accuracy of 0.7174 and Area under the ROC curve of 0.5571\n"
     ]
    }
   ],
   "source": [
    "logit = LogisticRegressionCV(cv = 5, scoring = 'roc_auc')\n",
    "logit.fit(train_data, train_labels)\n",
    "logit_prediction = logit.predict(dev_data)\n",
    "logit_score = metrics.f1_score(dev_labels, logit_prediction, average = \"weighted\")\n",
    "logit_accuracy = metrics.accuracy_score(dev_labels, logit_prediction)\n",
    "logit_roc_auc = metrics.roc_auc_score(dev_labels, logit_prediction)\n",
    "print(\"The Logistic Regression model has f1-score of {0:.4f}, accuracy of {1:.4f} \"\n",
    "\"and Area under the ROC curve of {2:.4f}\".format(logit_score, logit_accuracy,\n",
    "                                                 logit_roc_auc))"
   ]
  },
  {
   "cell_type": "code",
   "execution_count": null,
   "metadata": {
    "id": "4LWX25x5ZfkW"
   },
   "outputs": [],
   "source": [
    "from sklearn.feature_extraction import FeatureHasher\n",
    "from sklearn.preprocessing import LabelEncoder"
   ]
  },
  {
   "cell_type": "code",
   "execution_count": null,
   "metadata": {
    "colab": {
     "base_uri": "https://localhost:8080/",
     "height": 457
    },
    "id": "LMh_-EZWUFJh",
    "outputId": "fc746b26-94f5-448b-e933-7d148260cb02"
   },
   "outputs": [
    {
     "name": "stdout",
     "output_type": "stream",
     "text": [
      "dataset shape after filtering: (0, 36)\n",
      "dataset_ml shape after dropping additional features: (0, 12)\n",
      "dataset_ml shape after removing raws: (0, 12)\n"
     ]
    },
    {
     "ename": "AttributeError",
     "evalue": "ignored",
     "output_type": "error",
     "traceback": [
      "\u001b[0;31m---------------------------------------------------------------------------\u001b[0m",
      "\u001b[0;31mAttributeError\u001b[0m                            Traceback (most recent call last)",
      "\u001b[0;32m<ipython-input-14-040d85596728>\u001b[0m in \u001b[0;36m<module>\u001b[0;34m()\u001b[0m\n\u001b[1;32m     77\u001b[0m                     'contact_type': full_X2['contact_type']}\n\u001b[1;32m     78\u001b[0m \u001b[0mhasher\u001b[0m \u001b[0;34m=\u001b[0m \u001b[0mFeatureHasher\u001b[0m\u001b[0;34m(\u001b[0m\u001b[0mn_features\u001b[0m \u001b[0;34m=\u001b[0m \u001b[0;36m2\u001b[0m \u001b[0;34m**\u001b[0m \u001b[0;36m6\u001b[0m\u001b[0;34m)\u001b[0m\u001b[0;34m\u001b[0m\u001b[0;34m\u001b[0m\u001b[0m\n\u001b[0;32m---> 79\u001b[0;31m \u001b[0mtransform_var\u001b[0m \u001b[0;34m=\u001b[0m \u001b[0mhasher\u001b[0m\u001b[0;34m.\u001b[0m\u001b[0mfit_transform\u001b[0m\u001b[0;34m(\u001b[0m\u001b[0mcategorical_dict\u001b[0m\u001b[0;34m)\u001b[0m\u001b[0;34m\u001b[0m\u001b[0;34m\u001b[0m\u001b[0m\n\u001b[0m\u001b[1;32m     80\u001b[0m \u001b[0mprint\u001b[0m\u001b[0;34m(\u001b[0m\u001b[0mtransform_var\u001b[0m\u001b[0;34m)\u001b[0m\u001b[0;34m\u001b[0m\u001b[0;34m\u001b[0m\u001b[0m\n",
      "\u001b[0;32m/usr/local/lib/python3.7/dist-packages/sklearn/base.py\u001b[0m in \u001b[0;36mfit_transform\u001b[0;34m(self, X, y, **fit_params)\u001b[0m\n\u001b[1;32m    569\u001b[0m         \u001b[0;32mif\u001b[0m \u001b[0my\u001b[0m \u001b[0;32mis\u001b[0m \u001b[0;32mNone\u001b[0m\u001b[0;34m:\u001b[0m\u001b[0;34m\u001b[0m\u001b[0;34m\u001b[0m\u001b[0m\n\u001b[1;32m    570\u001b[0m             \u001b[0;31m# fit method of arity 1 (unsupervised transformation)\u001b[0m\u001b[0;34m\u001b[0m\u001b[0;34m\u001b[0m\u001b[0;34m\u001b[0m\u001b[0m\n\u001b[0;32m--> 571\u001b[0;31m             \u001b[0;32mreturn\u001b[0m \u001b[0mself\u001b[0m\u001b[0;34m.\u001b[0m\u001b[0mfit\u001b[0m\u001b[0;34m(\u001b[0m\u001b[0mX\u001b[0m\u001b[0;34m,\u001b[0m \u001b[0;34m**\u001b[0m\u001b[0mfit_params\u001b[0m\u001b[0;34m)\u001b[0m\u001b[0;34m.\u001b[0m\u001b[0mtransform\u001b[0m\u001b[0;34m(\u001b[0m\u001b[0mX\u001b[0m\u001b[0;34m)\u001b[0m\u001b[0;34m\u001b[0m\u001b[0;34m\u001b[0m\u001b[0m\n\u001b[0m\u001b[1;32m    572\u001b[0m         \u001b[0;32melse\u001b[0m\u001b[0;34m:\u001b[0m\u001b[0;34m\u001b[0m\u001b[0;34m\u001b[0m\u001b[0m\n\u001b[1;32m    573\u001b[0m             \u001b[0;31m# fit method of arity 2 (supervised transformation)\u001b[0m\u001b[0;34m\u001b[0m\u001b[0;34m\u001b[0m\u001b[0;34m\u001b[0m\u001b[0m\n",
      "\u001b[0;32m/usr/local/lib/python3.7/dist-packages/sklearn/feature_extraction/_hash.py\u001b[0m in \u001b[0;36mtransform\u001b[0;34m(self, raw_X)\u001b[0m\n\u001b[1;32m    153\u001b[0m         \u001b[0mindices\u001b[0m\u001b[0;34m,\u001b[0m \u001b[0mindptr\u001b[0m\u001b[0;34m,\u001b[0m \u001b[0mvalues\u001b[0m \u001b[0;34m=\u001b[0m\u001b[0;31m \u001b[0m\u001b[0;31m\\\u001b[0m\u001b[0;34m\u001b[0m\u001b[0;34m\u001b[0m\u001b[0m\n\u001b[1;32m    154\u001b[0m             _hashing_transform(raw_X, self.n_features, self.dtype,\n\u001b[0;32m--> 155\u001b[0;31m                                self.alternate_sign, seed=0)\n\u001b[0m\u001b[1;32m    156\u001b[0m         \u001b[0mn_samples\u001b[0m \u001b[0;34m=\u001b[0m \u001b[0mindptr\u001b[0m\u001b[0;34m.\u001b[0m\u001b[0mshape\u001b[0m\u001b[0;34m[\u001b[0m\u001b[0;36m0\u001b[0m\u001b[0;34m]\u001b[0m \u001b[0;34m-\u001b[0m \u001b[0;36m1\u001b[0m\u001b[0;34m\u001b[0m\u001b[0;34m\u001b[0m\u001b[0m\n\u001b[1;32m    157\u001b[0m \u001b[0;34m\u001b[0m\u001b[0m\n",
      "\u001b[0;32msklearn/feature_extraction/_hashing_fast.pyx\u001b[0m in \u001b[0;36msklearn.feature_extraction._hashing_fast.transform\u001b[0;34m()\u001b[0m\n",
      "\u001b[0;32m/usr/local/lib/python3.7/dist-packages/sklearn/feature_extraction/_hash.py\u001b[0m in \u001b[0;36m<genexpr>\u001b[0;34m(.0)\u001b[0m\n\u001b[1;32m    148\u001b[0m         \u001b[0mraw_X\u001b[0m \u001b[0;34m=\u001b[0m \u001b[0miter\u001b[0m\u001b[0;34m(\u001b[0m\u001b[0mraw_X\u001b[0m\u001b[0;34m)\u001b[0m\u001b[0;34m\u001b[0m\u001b[0;34m\u001b[0m\u001b[0m\n\u001b[1;32m    149\u001b[0m         \u001b[0;32mif\u001b[0m \u001b[0mself\u001b[0m\u001b[0;34m.\u001b[0m\u001b[0minput_type\u001b[0m \u001b[0;34m==\u001b[0m \u001b[0;34m\"dict\"\u001b[0m\u001b[0;34m:\u001b[0m\u001b[0;34m\u001b[0m\u001b[0;34m\u001b[0m\u001b[0m\n\u001b[0;32m--> 150\u001b[0;31m             \u001b[0mraw_X\u001b[0m \u001b[0;34m=\u001b[0m \u001b[0;34m(\u001b[0m\u001b[0m_iteritems\u001b[0m\u001b[0;34m(\u001b[0m\u001b[0md\u001b[0m\u001b[0;34m)\u001b[0m \u001b[0;32mfor\u001b[0m \u001b[0md\u001b[0m \u001b[0;32min\u001b[0m \u001b[0mraw_X\u001b[0m\u001b[0;34m)\u001b[0m\u001b[0;34m\u001b[0m\u001b[0;34m\u001b[0m\u001b[0m\n\u001b[0m\u001b[1;32m    151\u001b[0m         \u001b[0;32melif\u001b[0m \u001b[0mself\u001b[0m\u001b[0;34m.\u001b[0m\u001b[0minput_type\u001b[0m \u001b[0;34m==\u001b[0m \u001b[0;34m\"string\"\u001b[0m\u001b[0;34m:\u001b[0m\u001b[0;34m\u001b[0m\u001b[0;34m\u001b[0m\u001b[0m\n\u001b[1;32m    152\u001b[0m             \u001b[0mraw_X\u001b[0m \u001b[0;34m=\u001b[0m \u001b[0;34m(\u001b[0m\u001b[0;34m(\u001b[0m\u001b[0;34m(\u001b[0m\u001b[0mf\u001b[0m\u001b[0;34m,\u001b[0m \u001b[0;36m1\u001b[0m\u001b[0;34m)\u001b[0m \u001b[0;32mfor\u001b[0m \u001b[0mf\u001b[0m \u001b[0;32min\u001b[0m \u001b[0mx\u001b[0m\u001b[0;34m)\u001b[0m \u001b[0;32mfor\u001b[0m \u001b[0mx\u001b[0m \u001b[0;32min\u001b[0m \u001b[0mraw_X\u001b[0m\u001b[0;34m)\u001b[0m\u001b[0;34m\u001b[0m\u001b[0;34m\u001b[0m\u001b[0m\n",
      "\u001b[0;32m/usr/local/lib/python3.7/dist-packages/sklearn/feature_extraction/_hash.py\u001b[0m in \u001b[0;36m_iteritems\u001b[0;34m(d)\u001b[0m\n\u001b[1;32m     22\u001b[0m \u001b[0;32mdef\u001b[0m \u001b[0m_iteritems\u001b[0m\u001b[0;34m(\u001b[0m\u001b[0md\u001b[0m\u001b[0;34m)\u001b[0m\u001b[0;34m:\u001b[0m\u001b[0;34m\u001b[0m\u001b[0;34m\u001b[0m\u001b[0m\n\u001b[1;32m     23\u001b[0m     \u001b[0;34m\"\"\"Like d.iteritems, but accepts any collections.Mapping.\"\"\"\u001b[0m\u001b[0;34m\u001b[0m\u001b[0;34m\u001b[0m\u001b[0m\n\u001b[0;32m---> 24\u001b[0;31m     \u001b[0;32mreturn\u001b[0m \u001b[0md\u001b[0m\u001b[0;34m.\u001b[0m\u001b[0miteritems\u001b[0m\u001b[0;34m(\u001b[0m\u001b[0;34m)\u001b[0m \u001b[0;32mif\u001b[0m \u001b[0mhasattr\u001b[0m\u001b[0;34m(\u001b[0m\u001b[0md\u001b[0m\u001b[0;34m,\u001b[0m \u001b[0;34m\"iteritems\"\u001b[0m\u001b[0;34m)\u001b[0m \u001b[0;32melse\u001b[0m \u001b[0md\u001b[0m\u001b[0;34m.\u001b[0m\u001b[0mitems\u001b[0m\u001b[0;34m(\u001b[0m\u001b[0;34m)\u001b[0m\u001b[0;34m\u001b[0m\u001b[0;34m\u001b[0m\u001b[0m\n\u001b[0m\u001b[1;32m     25\u001b[0m \u001b[0;34m\u001b[0m\u001b[0m\n\u001b[1;32m     26\u001b[0m \u001b[0;34m\u001b[0m\u001b[0m\n",
      "\u001b[0;31mAttributeError\u001b[0m: 'str' object has no attribute 'items'"
     ]
    }
   ],
   "source": [
    "# Try feature engineering\n",
    "# After https://colab.research.google.com/drive/1hTgWRyNiXbDYRHuSoPZpRAp9etR-3rjq?authuser=1#scrollTo=Nzqd5vKk2M7Y&line=3&uniqifier=1\n",
    "\n",
    "\n",
    "# Focus only on close ticket as assumption\n",
    "dataset = dataset[dataset['incident_state'] == \"Closed\"]\n",
    "#dataset = dataset[dataset['contact_type'] == \"Phone\"]\n",
    "#dataset = dataset[dataset['priority'] == \"3 - Moderate\"]\n",
    "#dataset = dataset[dataset['urgency'] == \"2 - Medium\"]\n",
    "#dataset = dataset[dataset['impact'] == \"2 - Medium\"]\n",
    "dataset = dataset[dataset['active'] == \"False\"]\n",
    "\n",
    "print(f\"dataset shape after filtering: {dataset.shape}\")\n",
    "\n",
    "\n",
    "dataset['closed_at'] = pd.to_datetime(dataset['closed_at'])\n",
    "dataset['opened_at'] = pd.to_datetime(dataset['opened_at'])\n",
    "dataset['sys_created_at'] = pd.to_datetime(dataset['sys_created_at'])\n",
    "dataset['sys_updated_at'] = pd.to_datetime(dataset['sys_updated_at'])\n",
    "dataset['resolved_at'] = pd.to_datetime(dataset['resolved_at'])\n",
    "  \n",
    "dataset['delta'] = dataset.closed_at - dataset.opened_at\n",
    "dataset['processing_time'] = dataset['delta'].dt.total_seconds()/3600\n",
    "dataset['processing_time'] = dataset['processing_time'].round(1)\n",
    "\n",
    "dataset['delta'] = dataset.sys_created_at - dataset.opened_at\n",
    "dataset['created_time'] = dataset['delta'].dt.total_seconds()/3600\n",
    "dataset['created_time'] = dataset['created_time'].round(1)\n",
    "\n",
    "\n",
    "dataset = dataset.drop(['delta','resolved_at', 'sys_updated_at','closed_at','opened_at'], axis=1)\n",
    "\n",
    "# Preparation of the \"limited dataset\" - keeping only known features at the time of openning the ticket (excluding 'u_symptom' to avoid data loss)\n",
    "dataset_ml2 = dataset[['location','category','subcategory','caller_id',\n",
    "                       'opened_by','assignment_group','assigned_to',\n",
    "                       'u_priority_confirmation','made_sla','contact_type',\n",
    "                       'priority','urgency']]\n",
    "\n",
    "print(f\"dataset_ml shape after dropping additional features: {dataset_ml2.shape}\")\n",
    "\n",
    "list = ['location','category','subcategory','caller_id','opened_by',\n",
    "        'assignment_group','assigned_to','u_priority_confirmation',\n",
    "        'made_sla','contact_type','priority','urgency']\n",
    "for i in list:\n",
    "    dataset_ml2 = dataset_ml[dataset_ml2[i] != \"?\"]\n",
    "\n",
    "print(f\"dataset_ml shape after removing raws: {dataset_ml2.shape}\")\n",
    "\n",
    "# split between X & Y\n",
    "full_X2 = dataset_ml2.drop(columns='made_sla')\n",
    "full_Y2 = dataset_ml2[['made_sla']]\n",
    "\n",
    "#preparation for sklearn & ML\n",
    "\n",
    "#categorical_dict = {'location': full_X2['location'],\n",
    "#                    'category': full_X2['category'],\n",
    "#                    'subcategory': full_X2['subcategory'],\n",
    "#                    'caller_id': full_X2['caller_id'],\n",
    "#                    'opened_by': full_X2['opened_by'],\n",
    "#                    'assignment_group': full_X2['assignment_group'],\n",
    "#                    'assigned_to': full_X2['assigned_to'],\n",
    "#                    'u_priority_confirmation': full_X2['u_priority_confirmation'],\n",
    "#                    'contact_type': full_X2['contact_type']}\n",
    "\n",
    "# convert pd.dataset to np array\n",
    "full_X2.to_numpy()\n",
    "full_Y2.to_numpy()\n",
    "\n",
    "# convert categorical to numerical\n",
    "full_Y2['made_sla'] = LabelEncoder().fit_transform(full_Y2['made_sla'])\n",
    "\n",
    "#adjusting the shape of Y\n",
    "full_Y2 = np.ravel(full_Y2)\n",
    "\n",
    "full_X2['priority'] = LabelEncoder().fit_transform(full_X2['priority'])\n",
    "full_X2['urgency'] = LabelEncoder().fit_transform(full_X2['urgency'])\n",
    "\n",
    "categorical_list = ['location','category','subcategory','caller_id',\n",
    "                    'opened_by','assignment_group','assigned_to',\n",
    "                    'u_priority_confirmation','contact_type']\n",
    "hasher = FeatureHasher(cols = n_features = 2 ** 6, input_type = 'string')\n",
    "for feature in categorical_list:\n",
    "    transform_feature = hasher.fit_transform(full_X2[feature]).toarray()\n"
   ]
  },
  {
   "cell_type": "markdown",
   "metadata": {
    "id": "ovyLZTybiM1n"
   },
   "source": [
    "**ML Performance Evaluation**\n",
    "\n",
    "*Dicky to complete*"
   ]
  },
  {
   "cell_type": "markdown",
   "metadata": {
    "id": "ONmusJtyY2Eo"
   },
   "source": [
    "**Conclusion**\n",
    "\n",
    "*Joy to complete*"
   ]
  }
 ],
 "metadata": {
  "colab": {
   "collapsed_sections": [],
   "name": "w207_final_project_First_Ren_Woo.ipynb",
   "provenance": [],
   "toc_visible": true
  },
  "kernelspec": {
   "display_name": "Python 3",
   "language": "python",
   "name": "python3"
  },
  "language_info": {
   "codemirror_mode": {
    "name": "ipython",
    "version": 3
   },
   "file_extension": ".py",
   "mimetype": "text/x-python",
   "name": "python",
   "nbconvert_exporter": "python",
   "pygments_lexer": "ipython3",
   "version": "3.8.5"
  }
 },
 "nbformat": 4,
 "nbformat_minor": 1
}
